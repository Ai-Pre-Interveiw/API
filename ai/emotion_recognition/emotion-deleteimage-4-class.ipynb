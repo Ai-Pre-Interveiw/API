{
 "cells": [
  {
   "cell_type": "code",
   "execution_count": 1,
   "metadata": {
    "execution": {
     "iopub.execute_input": "2024-10-28T13:52:40.731714Z",
     "iopub.status.busy": "2024-10-28T13:52:40.731346Z",
     "iopub.status.idle": "2024-10-28T13:52:40.792438Z",
     "shell.execute_reply": "2024-10-28T13:52:40.791470Z",
     "shell.execute_reply.started": "2024-10-28T13:52:40.731672Z"
    },
    "trusted": true
   },
   "outputs": [],
   "source": [
    "import numpy as np\n",
    "import pandas as pd\n",
    "import cv2\n",
    "import matplotlib.pyplot as plt\n",
    "import sys\n",
    "import tensorflow as tf\n",
    "from glob import glob\n",
    "import json\n",
    "\n",
    "from tensorflow.keras.preprocessing.image import ImageDataGenerator\n",
    "from keras.models import load_model\n",
    "from keras.layers import Activation, Convolution2D, Dropout, Conv2D\n",
    "from keras.layers import AveragePooling2D, BatchNormalization\n",
    "from keras.layers import GlobalAveragePooling2D\n",
    "from keras.models import Sequential\n",
    "\n",
    "import warnings\n",
    "warnings.filterwarnings('ignore')"
   ]
  },
  {
   "cell_type": "code",
   "execution_count": 3,
   "metadata": {
    "execution": {
     "iopub.execute_input": "2024-10-28T13:53:03.184500Z",
     "iopub.status.busy": "2024-10-28T13:53:03.183765Z",
     "iopub.status.idle": "2024-10-28T13:53:03.188661Z",
     "shell.execute_reply": "2024-10-28T13:53:03.187693Z",
     "shell.execute_reply.started": "2024-10-28T13:53:03.184460Z"
    },
    "trusted": true
   },
   "outputs": [],
   "source": [
    "import shutil\n",
    "import os\n",
    "# os.remove('/kaggle/working/labels_112_4_class.json')\n",
    "# os.remove('/kaggle/working/best_model_resemote_112.keras')\n",
    "# os.remove('/kaggle/working/last_model_custom_112_4.keras')\n",
    "# shutil.rmtree(\"/kaggle/working/cropped_images_112_4_class\")"
   ]
  },
  {
   "cell_type": "code",
   "execution_count": 4,
   "metadata": {
    "execution": {
     "iopub.execute_input": "2024-10-28T13:53:06.289741Z",
     "iopub.status.busy": "2024-10-28T13:53:06.289389Z",
     "iopub.status.idle": "2024-10-28T14:18:41.134379Z",
     "shell.execute_reply": "2024-10-28T14:18:41.133328Z",
     "shell.execute_reply.started": "2024-10-28T13:53:06.289707Z"
    },
    "trusted": true
   },
   "outputs": [
    {
     "name": "stdout",
     "output_type": "stream",
     "text": [
      "17730\n"
     ]
    },
    {
     "name": "stderr",
     "output_type": "stream",
     "text": [
      "Invalid SOS parameters for sequential JPEG\n",
      "Invalid SOS parameters for sequential JPEG\n",
      "Invalid SOS parameters for sequential JPEG\n",
      "Invalid SOS parameters for sequential JPEG\n",
      "Invalid SOS parameters for sequential JPEG\n",
      "Invalid SOS parameters for sequential JPEG\n",
      "Invalid SOS parameters for sequential JPEG\n",
      "Invalid SOS parameters for sequential JPEG\n",
      "Invalid SOS parameters for sequential JPEG\n",
      "Invalid SOS parameters for sequential JPEG\n",
      "Invalid SOS parameters for sequential JPEG\n",
      "Invalid SOS parameters for sequential JPEG\n",
      "Invalid SOS parameters for sequential JPEG\n",
      "Invalid SOS parameters for sequential JPEG\n",
      "Invalid SOS parameters for sequential JPEG\n",
      "Invalid SOS parameters for sequential JPEG\n",
      "Invalid SOS parameters for sequential JPEG\n",
      "Invalid SOS parameters for sequential JPEG\n",
      "Invalid SOS parameters for sequential JPEG\n",
      "Invalid SOS parameters for sequential JPEG\n",
      "Invalid SOS parameters for sequential JPEG\n",
      "Invalid SOS parameters for sequential JPEG\n",
      "Invalid SOS parameters for sequential JPEG\n",
      "Premature end of JPEG file\n",
      "Invalid SOS parameters for sequential JPEG\n",
      "Invalid SOS parameters for sequential JPEG\n",
      "Invalid SOS parameters for sequential JPEG\n",
      "Invalid SOS parameters for sequential JPEG\n",
      "Invalid SOS parameters for sequential JPEG\n",
      "Invalid SOS parameters for sequential JPEG\n",
      "Invalid SOS parameters for sequential JPEG\n",
      "Invalid SOS parameters for sequential JPEG\n",
      "Invalid SOS parameters for sequential JPEG\n",
      "Invalid SOS parameters for sequential JPEG\n",
      "Invalid SOS parameters for sequential JPEG\n",
      "Invalid SOS parameters for sequential JPEG\n",
      "Invalid SOS parameters for sequential JPEG\n",
      "Invalid SOS parameters for sequential JPEG\n",
      "Invalid SOS parameters for sequential JPEG\n",
      "Invalid SOS parameters for sequential JPEG\n",
      "Invalid SOS parameters for sequential JPEG\n",
      "Invalid SOS parameters for sequential JPEG\n",
      "Invalid SOS parameters for sequential JPEG\n",
      "Invalid SOS parameters for sequential JPEG\n",
      "Invalid SOS parameters for sequential JPEG\n",
      "Invalid SOS parameters for sequential JPEG\n",
      "Invalid SOS parameters for sequential JPEG\n",
      "Invalid SOS parameters for sequential JPEG\n",
      "Invalid SOS parameters for sequential JPEG\n",
      "Invalid SOS parameters for sequential JPEG\n",
      "Invalid SOS parameters for sequential JPEG\n",
      "Invalid SOS parameters for sequential JPEG\n",
      "Invalid SOS parameters for sequential JPEG\n",
      "Invalid SOS parameters for sequential JPEG\n",
      "Invalid SOS parameters for sequential JPEG\n",
      "Invalid SOS parameters for sequential JPEG\n",
      "Invalid SOS parameters for sequential JPEG\n",
      "Invalid SOS parameters for sequential JPEG\n",
      "Invalid SOS parameters for sequential JPEG\n",
      "Invalid SOS parameters for sequential JPEG\n",
      "Invalid SOS parameters for sequential JPEG\n",
      "Invalid SOS parameters for sequential JPEG\n",
      "Invalid SOS parameters for sequential JPEG\n",
      "Invalid SOS parameters for sequential JPEG\n",
      "Invalid SOS parameters for sequential JPEG\n",
      "Invalid SOS parameters for sequential JPEG\n",
      "Invalid SOS parameters for sequential JPEG\n",
      "Invalid SOS parameters for sequential JPEG\n",
      "Invalid SOS parameters for sequential JPEG\n",
      "Invalid SOS parameters for sequential JPEG\n",
      "Invalid SOS parameters for sequential JPEG\n",
      "Invalid SOS parameters for sequential JPEG\n",
      "Invalid SOS parameters for sequential JPEG\n",
      "Invalid SOS parameters for sequential JPEG\n",
      "Invalid SOS parameters for sequential JPEG\n",
      "Invalid SOS parameters for sequential JPEG\n",
      "Invalid SOS parameters for sequential JPEG\n",
      "Invalid SOS parameters for sequential JPEG\n",
      "Invalid SOS parameters for sequential JPEG\n",
      "Invalid SOS parameters for sequential JPEG\n",
      "Invalid SOS parameters for sequential JPEG\n",
      "Invalid SOS parameters for sequential JPEG\n",
      "Invalid SOS parameters for sequential JPEG\n",
      "Invalid SOS parameters for sequential JPEG\n",
      "Invalid SOS parameters for sequential JPEG\n",
      "Invalid SOS parameters for sequential JPEG\n",
      "Invalid SOS parameters for sequential JPEG\n",
      "Invalid SOS parameters for sequential JPEG\n",
      "Invalid SOS parameters for sequential JPEG\n",
      "Invalid SOS parameters for sequential JPEG\n",
      "Invalid SOS parameters for sequential JPEG\n",
      "Invalid SOS parameters for sequential JPEG\n",
      "Invalid SOS parameters for sequential JPEG\n",
      "Invalid SOS parameters for sequential JPEG\n",
      "Invalid SOS parameters for sequential JPEG\n",
      "Invalid SOS parameters for sequential JPEG\n",
      "Invalid SOS parameters for sequential JPEG\n",
      "Invalid SOS parameters for sequential JPEG\n",
      "Invalid SOS parameters for sequential JPEG\n",
      "Invalid SOS parameters for sequential JPEG\n",
      "Invalid SOS parameters for sequential JPEG\n",
      "Invalid SOS parameters for sequential JPEG\n",
      "Invalid SOS parameters for sequential JPEG\n",
      "Invalid SOS parameters for sequential JPEG\n",
      "Invalid SOS parameters for sequential JPEG\n",
      "Invalid SOS parameters for sequential JPEG\n",
      "Invalid SOS parameters for sequential JPEG\n",
      "Invalid SOS parameters for sequential JPEG\n",
      "Invalid SOS parameters for sequential JPEG\n"
     ]
    },
    {
     "name": "stdout",
     "output_type": "stream",
     "text": [
      "잘못된 크롭된 이미지: /kaggle/input/emotion-data-neu/EMOIMG_중립_VALID/7d316d614dbd22b33df44768199cffa8212ad676673c6bf02b50e1834f8cf2cb_여_20_중립_숙박 및 거주공간_20210210134642-010-030.jpg\n"
     ]
    },
    {
     "name": "stderr",
     "output_type": "stream",
     "text": [
      "Invalid SOS parameters for sequential JPEG\n",
      "Invalid SOS parameters for sequential JPEG\n",
      "Invalid SOS parameters for sequential JPEG\n",
      "Invalid SOS parameters for sequential JPEG\n",
      "Invalid SOS parameters for sequential JPEG\n",
      "Invalid SOS parameters for sequential JPEG\n",
      "Invalid SOS parameters for sequential JPEG\n",
      "Invalid SOS parameters for sequential JPEG\n",
      "Invalid SOS parameters for sequential JPEG\n",
      "Invalid SOS parameters for sequential JPEG\n",
      "Invalid SOS parameters for sequential JPEG\n",
      "Invalid SOS parameters for sequential JPEG\n",
      "Invalid SOS parameters for sequential JPEG\n",
      "Invalid SOS parameters for sequential JPEG\n",
      "Invalid SOS parameters for sequential JPEG\n",
      "Invalid SOS parameters for sequential JPEG\n"
     ]
    },
    {
     "name": "stdout",
     "output_type": "stream",
     "text": [
      "잘못된 크롭된 이미지: /kaggle/input/emotion-data-neu/EMOIMG_중립_VALID/7d316d614dbd22b33df44768199cffa8212ad676673c6bf02b50e1834f8cf2cb_여_20_중립_숙박 및 거주공간_20210210134642-010-006.jpg\n"
     ]
    },
    {
     "name": "stderr",
     "output_type": "stream",
     "text": [
      "Invalid SOS parameters for sequential JPEG\n",
      "Invalid SOS parameters for sequential JPEG\n",
      "Invalid SOS parameters for sequential JPEG\n",
      "Invalid SOS parameters for sequential JPEG\n",
      "Invalid SOS parameters for sequential JPEG\n",
      "Invalid SOS parameters for sequential JPEG\n",
      "Invalid SOS parameters for sequential JPEG\n",
      "Invalid SOS parameters for sequential JPEG\n",
      "Invalid SOS parameters for sequential JPEG\n",
      "Invalid SOS parameters for sequential JPEG\n",
      "Invalid SOS parameters for sequential JPEG\n",
      "Invalid SOS parameters for sequential JPEG\n",
      "Invalid SOS parameters for sequential JPEG\n",
      "Invalid SOS parameters for sequential JPEG\n",
      "Invalid SOS parameters for sequential JPEG\n",
      "Invalid SOS parameters for sequential JPEG\n"
     ]
    },
    {
     "name": "stdout",
     "output_type": "stream",
     "text": [
      "잘못된 크롭된 이미지: /kaggle/input/emotion-data-neu/EMOIMG_중립_VALID/0b33836b914f544c31e3a642ccccbb94114040537440b4df3b9250d025fc39a5_여_20_중립_숙박 및 거주공간_20210209152239-010-014.jpg\n"
     ]
    },
    {
     "name": "stderr",
     "output_type": "stream",
     "text": [
      "Invalid SOS parameters for sequential JPEG\n",
      "Invalid SOS parameters for sequential JPEG\n"
     ]
    },
    {
     "name": "stdout",
     "output_type": "stream",
     "text": [
      "잘못된 크롭된 이미지: /kaggle/input/emotion-data-neu/EMOIMG_중립_VALID/0b33836b914f544c31e3a642ccccbb94114040537440b4df3b9250d025fc39a5_여_20_중립_숙박 및 거주공간_20210209152239-010-025.jpg\n"
     ]
    },
    {
     "name": "stderr",
     "output_type": "stream",
     "text": [
      "Invalid SOS parameters for sequential JPEG\n",
      "Invalid SOS parameters for sequential JPEG\n",
      "Invalid SOS parameters for sequential JPEG\n",
      "Invalid SOS parameters for sequential JPEG\n",
      "Invalid SOS parameters for sequential JPEG\n",
      "Invalid SOS parameters for sequential JPEG\n",
      "Invalid SOS parameters for sequential JPEG\n",
      "Invalid SOS parameters for sequential JPEG\n",
      "Invalid SOS parameters for sequential JPEG\n",
      "Invalid SOS parameters for sequential JPEG\n"
     ]
    },
    {
     "name": "stdout",
     "output_type": "stream",
     "text": [
      "잘못된 크롭된 이미지: /kaggle/input/emotion-data-neu/EMOIMG_중립_VALID/7d316d614dbd22b33df44768199cffa8212ad676673c6bf02b50e1834f8cf2cb_여_20_중립_숙박 및 거주공간_20210210134642-010-032.jpg\n"
     ]
    },
    {
     "name": "stderr",
     "output_type": "stream",
     "text": [
      "Invalid SOS parameters for sequential JPEG\n",
      "Invalid SOS parameters for sequential JPEG\n",
      "Invalid SOS parameters for sequential JPEG\n",
      "Invalid SOS parameters for sequential JPEG\n",
      "Invalid SOS parameters for sequential JPEG\n",
      "Invalid SOS parameters for sequential JPEG\n",
      "Invalid SOS parameters for sequential JPEG\n"
     ]
    },
    {
     "name": "stdout",
     "output_type": "stream",
     "text": [
      "잘못된 크롭된 이미지: /kaggle/input/emotion-data-neu/EMOIMG_중립_VALID/7d316d614dbd22b33df44768199cffa8212ad676673c6bf02b50e1834f8cf2cb_여_20_중립_실외 자연환경_20210210141933-007-004.jpg\n",
      "잘못된 크롭된 이미지: /kaggle/input/emotion-data-neu/EMOIMG_중립_VALID/7d316d614dbd22b33df44768199cffa8212ad676673c6bf02b50e1834f8cf2cb_여_20_중립_숙박 및 거주공간_20210210134642-010-028.jpg\n"
     ]
    },
    {
     "name": "stderr",
     "output_type": "stream",
     "text": [
      "Invalid SOS parameters for sequential JPEG\n",
      "Invalid SOS parameters for sequential JPEG\n"
     ]
    },
    {
     "name": "stdout",
     "output_type": "stream",
     "text": [
      "잘못된 크롭된 이미지: /kaggle/input/emotion-data-neu/EMOIMG_중립_VALID/75c5623c1ff04d118f654598dc777ab3aa13f62762f36f6351b8e980db927cbe_남_20_중립_실외 자연환경_20210225002248-007-002.jpg\n"
     ]
    },
    {
     "name": "stderr",
     "output_type": "stream",
     "text": [
      "Invalid SOS parameters for sequential JPEG\n",
      "Invalid SOS parameters for sequential JPEG\n",
      "Invalid SOS parameters for sequential JPEG\n",
      "Invalid SOS parameters for sequential JPEG\n",
      "Invalid SOS parameters for sequential JPEG\n",
      "Invalid SOS parameters for sequential JPEG\n",
      "Invalid SOS parameters for sequential JPEG\n"
     ]
    },
    {
     "name": "stdout",
     "output_type": "stream",
     "text": [
      "잘못된 크롭된 이미지: /kaggle/input/emotion-data-neu/EMOIMG_중립_VALID/7d316d614dbd22b33df44768199cffa8212ad676673c6bf02b50e1834f8cf2cb_여_20_중립_숙박 및 거주공간_20210210134642-010-033.jpg\n"
     ]
    },
    {
     "name": "stderr",
     "output_type": "stream",
     "text": [
      "Invalid SOS parameters for sequential JPEG\n",
      "Invalid SOS parameters for sequential JPEG\n",
      "Invalid SOS parameters for sequential JPEG\n",
      "Invalid SOS parameters for sequential JPEG\n",
      "Invalid SOS parameters for sequential JPEG\n"
     ]
    },
    {
     "name": "stdout",
     "output_type": "stream",
     "text": [
      "잘못된 크롭된 이미지: /kaggle/input/emotion-data-neu/EMOIMG_중립_VALID/75c5623c1ff04d118f654598dc777ab3aa13f62762f36f6351b8e980db927cbe_남_20_중립_숙박 및 거주공간_20210225002301-010-002.jpg\n"
     ]
    },
    {
     "name": "stderr",
     "output_type": "stream",
     "text": [
      "Invalid SOS parameters for sequential JPEG\n",
      "Invalid SOS parameters for sequential JPEG\n",
      "Invalid SOS parameters for sequential JPEG\n",
      "Invalid SOS parameters for sequential JPEG\n",
      "Invalid SOS parameters for sequential JPEG\n",
      "Invalid SOS parameters for sequential JPEG\n",
      "Invalid SOS parameters for sequential JPEG\n"
     ]
    },
    {
     "name": "stdout",
     "output_type": "stream",
     "text": [
      "잘못된 크롭된 이미지: /kaggle/input/emotion-data-neu/EMOIMG_중립_VALID/0b33836b914f544c31e3a642ccccbb94114040537440b4df3b9250d025fc39a5_여_20_중립_숙박 및 거주공간_20210209152239-010-033.jpg\n"
     ]
    },
    {
     "name": "stderr",
     "output_type": "stream",
     "text": [
      "Invalid SOS parameters for sequential JPEG\n"
     ]
    },
    {
     "name": "stdout",
     "output_type": "stream",
     "text": [
      "잘못된 크롭된 이미지: /kaggle/input/emotion-data-neu/EMOIMG_중립_VALID/7d316d614dbd22b33df44768199cffa8212ad676673c6bf02b50e1834f8cf2cb_여_20_중립_숙박 및 거주공간_20210210134642-010-020.jpg\n",
      "잘못된 크롭된 이미지: /kaggle/input/emotion-data-neu/EMOIMG_중립_VALID/7d316d614dbd22b33df44768199cffa8212ad676673c6bf02b50e1834f8cf2cb_여_20_중립_실외 자연환경_20210210141933-007-011.jpg\n"
     ]
    },
    {
     "name": "stderr",
     "output_type": "stream",
     "text": [
      "Invalid SOS parameters for sequential JPEG\n",
      "Invalid SOS parameters for sequential JPEG\n",
      "Invalid SOS parameters for sequential JPEG\n",
      "Invalid SOS parameters for sequential JPEG\n",
      "Invalid SOS parameters for sequential JPEG\n",
      "Invalid SOS parameters for sequential JPEG\n",
      "Invalid SOS parameters for sequential JPEG\n"
     ]
    },
    {
     "name": "stdout",
     "output_type": "stream",
     "text": [
      "잘못된 크롭된 이미지: /kaggle/input/emotion-data-neu/EMOIMG_중립_VALID/33baf31f61241358f6898cfa7e3262bf409725c44caf6f660e16dc33940fc305_여_20_중립_도심 환경_20210213232818-008-010.jpg\n"
     ]
    },
    {
     "name": "stderr",
     "output_type": "stream",
     "text": [
      "Invalid SOS parameters for sequential JPEG\n",
      "Invalid SOS parameters for sequential JPEG\n",
      "Invalid SOS parameters for sequential JPEG\n",
      "Invalid SOS parameters for sequential JPEG\n",
      "Invalid SOS parameters for sequential JPEG\n",
      "Invalid SOS parameters for sequential JPEG\n",
      "Invalid SOS parameters for sequential JPEG\n",
      "Invalid SOS parameters for sequential JPEG\n",
      "Invalid SOS parameters for sequential JPEG\n",
      "Invalid SOS parameters for sequential JPEG\n",
      "Invalid SOS parameters for sequential JPEG\n",
      "Invalid SOS parameters for sequential JPEG\n",
      "Invalid SOS parameters for sequential JPEG\n",
      "Invalid SOS parameters for sequential JPEG\n",
      "Invalid SOS parameters for sequential JPEG\n",
      "Invalid SOS parameters for sequential JPEG\n",
      "Invalid SOS parameters for sequential JPEG\n",
      "Invalid SOS parameters for sequential JPEG\n",
      "Invalid SOS parameters for sequential JPEG\n",
      "Invalid SOS parameters for sequential JPEG\n",
      "Invalid SOS parameters for sequential JPEG\n",
      "Invalid SOS parameters for sequential JPEG\n",
      "Invalid SOS parameters for sequential JPEG\n",
      "Invalid SOS parameters for sequential JPEG\n",
      "Invalid SOS parameters for sequential JPEG\n",
      "Invalid SOS parameters for sequential JPEG\n",
      "Invalid SOS parameters for sequential JPEG\n",
      "Invalid SOS parameters for sequential JPEG\n",
      "Invalid SOS parameters for sequential JPEG\n",
      "Invalid SOS parameters for sequential JPEG\n",
      "Invalid SOS parameters for sequential JPEG\n",
      "Invalid SOS parameters for sequential JPEG\n",
      "Invalid SOS parameters for sequential JPEG\n",
      "Invalid SOS parameters for sequential JPEG\n",
      "Invalid SOS parameters for sequential JPEG\n",
      "Invalid SOS parameters for sequential JPEG\n",
      "Invalid SOS parameters for sequential JPEG\n",
      "Invalid SOS parameters for sequential JPEG\n",
      "Invalid SOS parameters for sequential JPEG\n",
      "Invalid SOS parameters for sequential JPEG\n",
      "Invalid SOS parameters for sequential JPEG\n",
      "Invalid SOS parameters for sequential JPEG\n",
      "Invalid SOS parameters for sequential JPEG\n",
      "Invalid SOS parameters for sequential JPEG\n",
      "Invalid SOS parameters for sequential JPEG\n",
      "Invalid SOS parameters for sequential JPEG\n",
      "Invalid SOS parameters for sequential JPEG\n",
      "Invalid SOS parameters for sequential JPEG\n",
      "Invalid SOS parameters for sequential JPEG\n",
      "Invalid SOS parameters for sequential JPEG\n",
      "Invalid SOS parameters for sequential JPEG\n",
      "Invalid SOS parameters for sequential JPEG\n",
      "Invalid SOS parameters for sequential JPEG\n",
      "Invalid SOS parameters for sequential JPEG\n",
      "Invalid SOS parameters for sequential JPEG\n",
      "Invalid SOS parameters for sequential JPEG\n",
      "Invalid SOS parameters for sequential JPEG\n",
      "Invalid SOS parameters for sequential JPEG\n",
      "Invalid SOS parameters for sequential JPEG\n",
      "Invalid SOS parameters for sequential JPEG\n",
      "Invalid SOS parameters for sequential JPEG\n",
      "Invalid SOS parameters for sequential JPEG\n",
      "Invalid SOS parameters for sequential JPEG\n",
      "Invalid SOS parameters for sequential JPEG\n",
      "Invalid SOS parameters for sequential JPEG\n",
      "Invalid SOS parameters for sequential JPEG\n",
      "Invalid SOS parameters for sequential JPEG\n",
      "Invalid SOS parameters for sequential JPEG\n",
      "Invalid SOS parameters for sequential JPEG\n",
      "Invalid SOS parameters for sequential JPEG\n",
      "Invalid SOS parameters for sequential JPEG\n",
      "Invalid SOS parameters for sequential JPEG\n",
      "Invalid SOS parameters for sequential JPEG\n",
      "Invalid SOS parameters for sequential JPEG\n"
     ]
    },
    {
     "name": "stdout",
     "output_type": "stream",
     "text": [
      "잘못된 크롭된 이미지: /kaggle/input/emotion-data-hap/EMOIMG_기쁨_VALID/ac5db648061b4c8458340301ada76f9aaea90a0f28601b1a7d6cd1c8e63ba648_남_20_기쁨_문화재 및 유적지_20210218173543-009-001.jpg\n"
     ]
    },
    {
     "name": "stderr",
     "output_type": "stream",
     "text": [
      "Invalid SOS parameters for sequential JPEG\n",
      "Invalid SOS parameters for sequential JPEG\n",
      "Invalid SOS parameters for sequential JPEG\n",
      "Invalid SOS parameters for sequential JPEG\n",
      "Invalid SOS parameters for sequential JPEG\n",
      "Invalid SOS parameters for sequential JPEG\n",
      "Invalid SOS parameters for sequential JPEG\n",
      "Invalid SOS parameters for sequential JPEG\n",
      "Invalid SOS parameters for sequential JPEG\n",
      "Invalid SOS parameters for sequential JPEG\n",
      "Invalid SOS parameters for sequential JPEG\n",
      "Invalid SOS parameters for sequential JPEG\n",
      "Invalid SOS parameters for sequential JPEG\n",
      "Invalid SOS parameters for sequential JPEG\n",
      "Invalid SOS parameters for sequential JPEG\n",
      "Invalid SOS parameters for sequential JPEG\n",
      "Invalid SOS parameters for sequential JPEG\n",
      "Invalid SOS parameters for sequential JPEG\n",
      "Invalid SOS parameters for sequential JPEG\n",
      "Invalid SOS parameters for sequential JPEG\n",
      "Invalid SOS parameters for sequential JPEG\n",
      "Invalid SOS parameters for sequential JPEG\n",
      "Invalid SOS parameters for sequential JPEG\n",
      "Invalid SOS parameters for sequential JPEG\n",
      "Invalid SOS parameters for sequential JPEG\n",
      "Invalid SOS parameters for sequential JPEG\n",
      "Invalid SOS parameters for sequential JPEG\n",
      "Invalid SOS parameters for sequential JPEG\n",
      "Invalid SOS parameters for sequential JPEG\n",
      "Invalid SOS parameters for sequential JPEG\n",
      "Invalid SOS parameters for sequential JPEG\n",
      "Invalid SOS parameters for sequential JPEG\n",
      "Invalid SOS parameters for sequential JPEG\n",
      "Invalid SOS parameters for sequential JPEG\n",
      "Invalid SOS parameters for sequential JPEG\n",
      "Invalid SOS parameters for sequential JPEG\n",
      "Invalid SOS parameters for sequential JPEG\n",
      "Invalid SOS parameters for sequential JPEG\n",
      "Invalid SOS parameters for sequential JPEG\n",
      "Invalid SOS parameters for sequential JPEG\n",
      "Invalid SOS parameters for sequential JPEG\n",
      "Invalid SOS parameters for sequential JPEG\n",
      "Invalid SOS parameters for sequential JPEG\n",
      "Invalid SOS parameters for sequential JPEG\n",
      "Invalid SOS parameters for sequential JPEG\n",
      "Invalid SOS parameters for sequential JPEG\n",
      "Invalid SOS parameters for sequential JPEG\n",
      "Invalid SOS parameters for sequential JPEG\n",
      "Invalid SOS parameters for sequential JPEG\n",
      "Invalid SOS parameters for sequential JPEG\n",
      "Invalid SOS parameters for sequential JPEG\n",
      "Invalid SOS parameters for sequential JPEG\n",
      "Invalid SOS parameters for sequential JPEG\n",
      "Invalid SOS parameters for sequential JPEG\n",
      "Invalid SOS parameters for sequential JPEG\n",
      "Invalid SOS parameters for sequential JPEG\n",
      "Invalid SOS parameters for sequential JPEG\n",
      "Invalid SOS parameters for sequential JPEG\n",
      "Invalid SOS parameters for sequential JPEG\n",
      "Invalid SOS parameters for sequential JPEG\n",
      "Invalid SOS parameters for sequential JPEG\n",
      "Invalid SOS parameters for sequential JPEG\n",
      "Invalid SOS parameters for sequential JPEG\n",
      "Invalid SOS parameters for sequential JPEG\n",
      "Invalid SOS parameters for sequential JPEG\n",
      "Invalid SOS parameters for sequential JPEG\n",
      "Invalid SOS parameters for sequential JPEG\n",
      "Invalid SOS parameters for sequential JPEG\n",
      "Invalid SOS parameters for sequential JPEG\n",
      "Invalid SOS parameters for sequential JPEG\n",
      "Invalid SOS parameters for sequential JPEG\n",
      "Invalid SOS parameters for sequential JPEG\n",
      "Invalid SOS parameters for sequential JPEG\n",
      "Invalid SOS parameters for sequential JPEG\n",
      "Invalid SOS parameters for sequential JPEG\n",
      "Invalid SOS parameters for sequential JPEG\n",
      "Invalid SOS parameters for sequential JPEG\n",
      "Invalid SOS parameters for sequential JPEG\n",
      "Invalid SOS parameters for sequential JPEG\n",
      "Invalid SOS parameters for sequential JPEG\n",
      "Invalid SOS parameters for sequential JPEG\n",
      "Invalid SOS parameters for sequential JPEG\n",
      "Invalid SOS parameters for sequential JPEG\n",
      "Invalid SOS parameters for sequential JPEG\n",
      "Invalid SOS parameters for sequential JPEG\n",
      "Invalid SOS parameters for sequential JPEG\n",
      "Invalid SOS parameters for sequential JPEG\n",
      "Invalid SOS parameters for sequential JPEG\n",
      "Invalid SOS parameters for sequential JPEG\n",
      "Invalid SOS parameters for sequential JPEG\n",
      "Invalid SOS parameters for sequential JPEG\n",
      "Invalid SOS parameters for sequential JPEG\n",
      "Invalid SOS parameters for sequential JPEG\n",
      "Invalid SOS parameters for sequential JPEG\n",
      "Invalid SOS parameters for sequential JPEG\n",
      "Invalid SOS parameters for sequential JPEG\n",
      "Invalid SOS parameters for sequential JPEG\n",
      "Invalid SOS parameters for sequential JPEG\n",
      "Invalid SOS parameters for sequential JPEG\n",
      "Invalid SOS parameters for sequential JPEG\n",
      "Invalid SOS parameters for sequential JPEG\n",
      "Invalid SOS parameters for sequential JPEG\n",
      "Invalid SOS parameters for sequential JPEG\n",
      "Invalid SOS parameters for sequential JPEG\n",
      "Invalid SOS parameters for sequential JPEG\n",
      "Invalid SOS parameters for sequential JPEG\n",
      "Invalid SOS parameters for sequential JPEG\n",
      "Invalid SOS parameters for sequential JPEG\n",
      "Invalid SOS parameters for sequential JPEG\n",
      "Invalid SOS parameters for sequential JPEG\n",
      "Invalid SOS parameters for sequential JPEG\n",
      "Invalid SOS parameters for sequential JPEG\n",
      "Invalid SOS parameters for sequential JPEG\n",
      "Invalid SOS parameters for sequential JPEG\n",
      "Invalid SOS parameters for sequential JPEG\n",
      "Invalid SOS parameters for sequential JPEG\n",
      "Invalid SOS parameters for sequential JPEG\n",
      "Invalid SOS parameters for sequential JPEG\n",
      "Invalid SOS parameters for sequential JPEG\n",
      "Invalid SOS parameters for sequential JPEG\n",
      "Invalid SOS parameters for sequential JPEG\n",
      "Invalid SOS parameters for sequential JPEG\n",
      "Invalid SOS parameters for sequential JPEG\n",
      "Invalid SOS parameters for sequential JPEG\n",
      "Invalid SOS parameters for sequential JPEG\n",
      "Invalid SOS parameters for sequential JPEG\n",
      "Invalid SOS parameters for sequential JPEG\n",
      "Invalid SOS parameters for sequential JPEG\n",
      "Invalid SOS parameters for sequential JPEG\n",
      "Invalid SOS parameters for sequential JPEG\n",
      "Invalid SOS parameters for sequential JPEG\n",
      "Invalid SOS parameters for sequential JPEG\n",
      "Invalid SOS parameters for sequential JPEG\n",
      "Invalid SOS parameters for sequential JPEG\n",
      "Invalid SOS parameters for sequential JPEG\n",
      "Invalid SOS parameters for sequential JPEG\n",
      "Invalid SOS parameters for sequential JPEG\n",
      "Invalid SOS parameters for sequential JPEG\n",
      "Invalid SOS parameters for sequential JPEG\n",
      "Invalid SOS parameters for sequential JPEG\n",
      "Invalid SOS parameters for sequential JPEG\n",
      "Invalid SOS parameters for sequential JPEG\n",
      "Invalid SOS parameters for sequential JPEG\n",
      "Invalid SOS parameters for sequential JPEG\n",
      "Invalid SOS parameters for sequential JPEG\n",
      "Invalid SOS parameters for sequential JPEG\n",
      "Invalid SOS parameters for sequential JPEG\n",
      "Invalid SOS parameters for sequential JPEG\n",
      "Invalid SOS parameters for sequential JPEG\n",
      "Invalid SOS parameters for sequential JPEG\n",
      "Invalid SOS parameters for sequential JPEG\n",
      "Invalid SOS parameters for sequential JPEG\n",
      "Invalid SOS parameters for sequential JPEG\n",
      "Invalid SOS parameters for sequential JPEG\n",
      "Invalid SOS parameters for sequential JPEG\n",
      "Invalid SOS parameters for sequential JPEG\n",
      "Invalid SOS parameters for sequential JPEG\n",
      "Invalid SOS parameters for sequential JPEG\n",
      "Invalid SOS parameters for sequential JPEG\n",
      "Invalid SOS parameters for sequential JPEG\n",
      "Invalid SOS parameters for sequential JPEG\n",
      "Premature end of JPEG file\n",
      "Invalid SOS parameters for sequential JPEG\n",
      "Invalid SOS parameters for sequential JPEG\n",
      "Invalid SOS parameters for sequential JPEG\n",
      "Invalid SOS parameters for sequential JPEG\n",
      "Invalid SOS parameters for sequential JPEG\n",
      "Invalid SOS parameters for sequential JPEG\n",
      "Invalid SOS parameters for sequential JPEG\n",
      "Invalid SOS parameters for sequential JPEG\n",
      "Invalid SOS parameters for sequential JPEG\n",
      "Invalid SOS parameters for sequential JPEG\n",
      "Invalid SOS parameters for sequential JPEG\n",
      "Invalid SOS parameters for sequential JPEG\n",
      "Invalid SOS parameters for sequential JPEG\n",
      "Invalid SOS parameters for sequential JPEG\n",
      "Invalid SOS parameters for sequential JPEG\n",
      "Invalid SOS parameters for sequential JPEG\n",
      "Invalid SOS parameters for sequential JPEG\n",
      "Invalid SOS parameters for sequential JPEG\n",
      "Invalid SOS parameters for sequential JPEG\n",
      "Invalid SOS parameters for sequential JPEG\n",
      "Invalid SOS parameters for sequential JPEG\n",
      "Invalid SOS parameters for sequential JPEG\n",
      "Invalid SOS parameters for sequential JPEG\n",
      "Invalid SOS parameters for sequential JPEG\n",
      "Invalid SOS parameters for sequential JPEG\n",
      "Invalid SOS parameters for sequential JPEG\n",
      "Invalid SOS parameters for sequential JPEG\n",
      "Invalid SOS parameters for sequential JPEG\n",
      "Invalid SOS parameters for sequential JPEG\n",
      "Invalid SOS parameters for sequential JPEG\n",
      "Invalid SOS parameters for sequential JPEG\n",
      "Invalid SOS parameters for sequential JPEG\n",
      "Invalid SOS parameters for sequential JPEG\n",
      "Invalid SOS parameters for sequential JPEG\n",
      "Invalid SOS parameters for sequential JPEG\n",
      "Invalid SOS parameters for sequential JPEG\n",
      "Invalid SOS parameters for sequential JPEG\n",
      "Invalid SOS parameters for sequential JPEG\n",
      "Invalid SOS parameters for sequential JPEG\n",
      "Invalid SOS parameters for sequential JPEG\n",
      "Invalid SOS parameters for sequential JPEG\n",
      "Invalid SOS parameters for sequential JPEG\n",
      "Invalid SOS parameters for sequential JPEG\n",
      "Invalid SOS parameters for sequential JPEG\n"
     ]
    },
    {
     "name": "stdout",
     "output_type": "stream",
     "text": [
      "잘못된 크롭된 이미지: /kaggle/input/emotion-data-embb/EMOIMG_당황_VALID/2f56effc820a986f83fb41b5e75be3a8c15bc27ed27402a939c0a60ec2e2529b_여_20_당황_숙박 및 거주공간_20210216110620-010-006.jpg\n"
     ]
    },
    {
     "name": "stderr",
     "output_type": "stream",
     "text": [
      "Invalid SOS parameters for sequential JPEG\n",
      "Invalid SOS parameters for sequential JPEG\n",
      "Invalid SOS parameters for sequential JPEG\n",
      "Invalid SOS parameters for sequential JPEG\n",
      "Invalid SOS parameters for sequential JPEG\n",
      "Invalid SOS parameters for sequential JPEG\n",
      "Invalid SOS parameters for sequential JPEG\n",
      "Invalid SOS parameters for sequential JPEG\n",
      "Invalid SOS parameters for sequential JPEG\n",
      "Invalid SOS parameters for sequential JPEG\n",
      "Invalid SOS parameters for sequential JPEG\n",
      "Invalid SOS parameters for sequential JPEG\n",
      "Invalid SOS parameters for sequential JPEG\n",
      "Invalid SOS parameters for sequential JPEG\n",
      "Invalid SOS parameters for sequential JPEG\n",
      "Invalid SOS parameters for sequential JPEG\n",
      "Invalid SOS parameters for sequential JPEG\n",
      "Invalid SOS parameters for sequential JPEG\n",
      "Invalid SOS parameters for sequential JPEG\n",
      "Invalid SOS parameters for sequential JPEG\n",
      "Invalid SOS parameters for sequential JPEG\n",
      "Invalid SOS parameters for sequential JPEG\n",
      "Invalid SOS parameters for sequential JPEG\n",
      "Invalid SOS parameters for sequential JPEG\n",
      "Invalid SOS parameters for sequential JPEG\n",
      "Invalid SOS parameters for sequential JPEG\n",
      "Invalid SOS parameters for sequential JPEG\n",
      "Invalid SOS parameters for sequential JPEG\n",
      "Invalid SOS parameters for sequential JPEG\n",
      "Invalid SOS parameters for sequential JPEG\n",
      "Invalid SOS parameters for sequential JPEG\n",
      "Invalid SOS parameters for sequential JPEG\n",
      "Invalid SOS parameters for sequential JPEG\n",
      "Invalid SOS parameters for sequential JPEG\n",
      "Invalid SOS parameters for sequential JPEG\n",
      "Invalid SOS parameters for sequential JPEG\n",
      "Invalid SOS parameters for sequential JPEG\n",
      "Invalid SOS parameters for sequential JPEG\n",
      "Invalid SOS parameters for sequential JPEG\n",
      "Invalid SOS parameters for sequential JPEG\n",
      "Invalid SOS parameters for sequential JPEG\n",
      "Invalid SOS parameters for sequential JPEG\n",
      "Invalid SOS parameters for sequential JPEG\n",
      "Invalid SOS parameters for sequential JPEG\n",
      "Invalid SOS parameters for sequential JPEG\n",
      "Invalid SOS parameters for sequential JPEG\n",
      "Invalid SOS parameters for sequential JPEG\n",
      "Invalid SOS parameters for sequential JPEG\n"
     ]
    },
    {
     "name": "stdout",
     "output_type": "stream",
     "text": [
      "잘못된 크롭된 이미지: /kaggle/input/emotion-data-embb/EMOIMG_당황_VALID/2f56effc820a986f83fb41b5e75be3a8c15bc27ed27402a939c0a60ec2e2529b_여_20_당황_숙박 및 거주공간_20210216110620-010-012.jpg\n"
     ]
    },
    {
     "name": "stderr",
     "output_type": "stream",
     "text": [
      "Invalid SOS parameters for sequential JPEG\n",
      "Invalid SOS parameters for sequential JPEG\n",
      "Invalid SOS parameters for sequential JPEG\n",
      "Invalid SOS parameters for sequential JPEG\n",
      "Invalid SOS parameters for sequential JPEG\n"
     ]
    },
    {
     "name": "stdout",
     "output_type": "stream",
     "text": [
      "이미지 및 라벨 저장 완료.\n"
     ]
    }
   ],
   "source": [
    "import cv2\n",
    "import numpy as np\n",
    "import json\n",
    "from glob import glob\n",
    "import os\n",
    "\n",
    "# 저장할 디렉터리 설정\n",
    "save_image_dir = './cropped_images_112_4_class/'\n",
    "save_label_file = './labels_112_4_class.json'\n",
    "\n",
    "# 이미지 저장 디렉토리 생성\n",
    "if not os.path.exists(save_image_dir):\n",
    "    os.makedirs(save_image_dir)\n",
    "\n",
    "# 라벨 리스트\n",
    "labels = []\n",
    "\n",
    "# 이미지 경로 리스트\n",
    "image_data = glob('/kaggle/input/*/*/*.jpg')\n",
    "print(len(image_data))\n",
    "\n",
    "neu_json_file_path = '/kaggle/input/emotion-label-4/img_emotion_validation_data(중립).json'\n",
    "hap_json_file_path = '/kaggle/input/emotion-label-4/img_emotion_validation_data(기쁨).json'\n",
    "emb_json_file_path = '/kaggle/input/emotion-label-4/img_emotion_validation_data(당황).json'\n",
    "unr_json_file_path = '/kaggle/input/emotion-label-4/img_emotion_validation_data(불안).json'\n",
    "\n",
    "with open(neu_json_file_path, 'r', encoding='utf-8') as f:\n",
    "    neu_data = json.load(f)\n",
    "with open(hap_json_file_path, 'r', encoding='utf-8') as f:\n",
    "    hap_data = json.load(f)\n",
    "with open(emb_json_file_path, 'r', encoding='utf-8') as f:\n",
    "    emb_data = json.load(f)\n",
    "with open(unr_json_file_path, 'r', encoding='utf-8') as f:\n",
    "    unr_data = json.load(f)\n",
    "\n",
    "\n",
    "data_label = emb_data + neu_data + hap_data + unr_data\n",
    "\n",
    "# 이미지 처리 및 저장\n",
    "for idx, image_path in enumerate(image_data):\n",
    "    image = cv2.imread(image_path)\n",
    "    if image is None:\n",
    "        print(f\"이미지 로드 실패: {image_path}\")\n",
    "        continue  # 이미지 로드 실패 시 건너뜀\n",
    "\n",
    "    image_height, image_width, _ = image.shape\n",
    "\n",
    "    x, y, width, height = 0, 0, 0, 0\n",
    "    emotion_label = ''\n",
    "\n",
    "    # 바운딩 박스 및 라벨 추출\n",
    "    for item in data_label:\n",
    "        if item['filename'] == image_path.split('/')[-1]:\n",
    "            x = int(item['annot_A']['boxes']['minX'])\n",
    "            y = int(item['annot_A']['boxes']['minY'])\n",
    "            width = int(item['annot_A']['boxes']['maxX'] - item['annot_A']['boxes']['minX'])\n",
    "            height = int(item['annot_A']['boxes']['maxY'] - item['annot_A']['boxes']['minY'])\n",
    "            emotion_label = item['faceExp_uploader']\n",
    "            break\n",
    "\n",
    "    if width > 0 and height > 0:\n",
    "        # 이미지 크롭\n",
    "        cropped_image = image[y:y+height, x:x+width]\n",
    "\n",
    "        # 크롭된 이미지가 유효한지 확인 (높이나 너비가 0이 아닌지 확인)\n",
    "        if cropped_image.size == 0 or cropped_image.shape[0] == 0 or cropped_image.shape[1] == 0:\n",
    "            print(f\"잘못된 크롭된 이미지: {image_path}\")\n",
    "            continue  # 크롭된 이미지가 비어 있거나 잘못된 경우 건너뜀\n",
    "\n",
    "        # 이미지 리사이즈\n",
    "        resized_image = cv2.resize(cropped_image, (112, 112))  # 크기 조정\n",
    "        resized_image_rgb = cv2.cvtColor(resized_image, cv2.COLOR_BGR2RGB)\n",
    "\n",
    "        # 이미지 저장 (파일 이름을 인덱스로 설정)\n",
    "        image_save_path = os.path.join(save_image_dir, f'cropped_{idx}.npy')\n",
    "        np.save(image_save_path, resized_image_rgb)\n",
    "\n",
    "        # 라벨 저장 (원-핫 인코딩)\n",
    "        if emotion_label == '중립':\n",
    "            label = [1, 0, 0, 0]\n",
    "        elif emotion_label == '기쁨':\n",
    "            label = [0, 1, 0, 0]\n",
    "        elif emotion_label == '당황':\n",
    "            label = [0, 0, 1, 0]\n",
    "        elif emotion_label == '불안':\n",
    "            label = [0, 0, 0, 1]\n",
    "#         elif emotion_label == '분노':\n",
    "#             label = [0, 0, 0, 1, 0]\n",
    "#         elif emotion_label == '상처':\n",
    "#             label = [0, 0, 0, 0, 1]\n",
    "#         elif emotion_label == '불안':\n",
    "#             label = [0, 0, 0, 0, 0, 1]\n",
    "#         elif emotion_label == '슬픔':\n",
    "#             label = [0, 0, 0, 0, 0, 0, 1]\n",
    "        else:\n",
    "            continue  # 라벨이 없으면 건너뜀\n",
    "\n",
    "        # 라벨을 리스트에 추가\n",
    "        labels.append({'image': image_save_path, 'label': label})\n",
    "\n",
    "# 라벨을 JSON 파일로 저장\n",
    "with open(save_label_file, 'w') as f:\n",
    "    json.dump(labels, f)\n",
    "\n",
    "print(\"이미지 및 라벨 저장 완료.\")"
   ]
  },
  {
   "cell_type": "code",
   "execution_count": 5,
   "metadata": {
    "execution": {
     "iopub.execute_input": "2024-10-28T14:18:41.136346Z",
     "iopub.status.busy": "2024-10-28T14:18:41.136011Z",
     "iopub.status.idle": "2024-10-28T14:18:46.158895Z",
     "shell.execute_reply": "2024-10-28T14:18:46.157752Z",
     "shell.execute_reply.started": "2024-10-28T14:18:41.136312Z"
    },
    "trusted": true
   },
   "outputs": [],
   "source": [
    "from sklearn.model_selection import train_test_split\n",
    "from tensorflow.keras.utils import to_categorical\n",
    "\n",
    "# 이미지 저장 경로 및 레이블 파일 경로\n",
    "save_image_dir = './cropped_images_112_4_class'\n",
    "save_label_file = './labels_112_4_class.json'\n",
    "\n",
    "# 이미지 크기 (예: 112x112)\n",
    "image_size = (112, 112)\n",
    "\n",
    "# 1. 레이블 데이터 로드\n",
    "with open(save_label_file, 'r') as f:\n",
    "    labels = json.load(f)  # JSON 파일에서 레이블 로드\n",
    "\n",
    "# 2. 이미지 파일과 레이블을 리스트에 저장\n",
    "images = []\n",
    "emotions = []\n",
    "\n",
    "# labels는 리스트로 가정하며, 각 항목이 {\"image\": \"path_to_image\", \"label\": [1, 0, 0]} 형태\n",
    "for entry in labels:\n",
    "    image_path = entry['image']\n",
    "    label = entry['label']\n",
    "    \n",
    "    # 이미지 로드 (.npy 파일로부터 로드)\n",
    "    image = np.load(image_path)\n",
    "    \n",
    "    if image is not None:\n",
    "        \n",
    "        # 정규화 (0~1 범위로)\n",
    "        image = image.astype('float32') / 255.0\n",
    "        \n",
    "        # 이미지를 리스트에 추가\n",
    "        images.append(image)\n",
    "        \n",
    "        # 레이블을 리스트에 추가\n",
    "        emotions.append(label)\n",
    "\n",
    "# 3. NumPy 배열로 변환\n",
    "images = np.array(images)\n",
    "emotions = np.array(emotions)"
   ]
  },
  {
   "cell_type": "code",
   "execution_count": 6,
   "metadata": {
    "execution": {
     "iopub.execute_input": "2024-10-28T14:18:46.160566Z",
     "iopub.status.busy": "2024-10-28T14:18:46.160123Z",
     "iopub.status.idle": "2024-10-28T14:18:46.165729Z",
     "shell.execute_reply": "2024-10-28T14:18:46.164870Z",
     "shell.execute_reply.started": "2024-10-28T14:18:46.160487Z"
    },
    "trusted": true
   },
   "outputs": [
    {
     "name": "stdout",
     "output_type": "stream",
     "text": [
      "8926 8926\n"
     ]
    }
   ],
   "source": [
    "print(len(images), len(emotions))"
   ]
  },
  {
   "cell_type": "code",
   "execution_count": 7,
   "metadata": {
    "execution": {
     "iopub.execute_input": "2024-10-28T14:18:46.168608Z",
     "iopub.status.busy": "2024-10-28T14:18:46.168247Z",
     "iopub.status.idle": "2024-10-28T14:18:46.397155Z",
     "shell.execute_reply": "2024-10-28T14:18:46.396226Z",
     "shell.execute_reply.started": "2024-10-28T14:18:46.168568Z"
    },
    "trusted": true
   },
   "outputs": [
    {
     "name": "stdout",
     "output_type": "stream",
     "text": [
      "(112, 112, 3)\n"
     ]
    },
    {
     "data": {
      "image/png": "[encoded data removed]",
      "text/plain": [
       "<Figure size 640x480 with 1 Axes>"
      ]
     },
     "metadata": {},
     "output_type": "display_data"
    }
   ],
   "source": [
    "image = images[1000]\n",
    "label = emotions[1000]\n",
    "print(image.shape)\n",
    "# 라벨을 텍스트로 변환 (원-핫 인코딩된 값을 감정으로 변환)\n",
    "# label_dict = {0: \"good\", 1: \"bad\"}\n",
    "label_dict = {0: \"neutral\", 1: \"happy\", 2: \"embarrased\", 3: \"unrest\"}\n",
    "emotion = label_dict[np.argmax(label)]\n",
    "\n",
    "plt.imshow(image, cmap='gray')  # 만약 흑백 이미지라면 'cmap='gray''를 사용\n",
    "plt.title(f\"Label: {emotion}\")    # 레이블을 제목으로 출력\n",
    "\n",
    "# 축 숨기기\n",
    "plt.axis('off')\n",
    "\n",
    "# 그래프 그리기\n",
    "plt.show()"
   ]
  },
  {
   "cell_type": "code",
   "execution_count": 8,
   "metadata": {
    "execution": {
     "iopub.execute_input": "2024-10-28T14:18:46.398692Z",
     "iopub.status.busy": "2024-10-28T14:18:46.398365Z",
     "iopub.status.idle": "2024-10-28T14:18:47.003027Z",
     "shell.execute_reply": "2024-10-28T14:18:47.002239Z",
     "shell.execute_reply.started": "2024-10-28T14:18:46.398651Z"
    },
    "trusted": true
   },
   "outputs": [],
   "source": [
    "# 4. 학습 및 검증 데이터 분할\n",
    "X_train, X_val, y_train, y_val = train_test_split(images, emotions, test_size=0.2, random_state=42)"
   ]
  },
  {
   "cell_type": "code",
   "execution_count": 9,
   "metadata": {
    "execution": {
     "iopub.execute_input": "2024-10-28T14:18:47.004363Z",
     "iopub.status.busy": "2024-10-28T14:18:47.004075Z",
     "iopub.status.idle": "2024-10-28T14:18:47.077812Z",
     "shell.execute_reply": "2024-10-28T14:18:47.076985Z",
     "shell.execute_reply.started": "2024-10-28T14:18:47.004332Z"
    },
    "trusted": true
   },
   "outputs": [
    {
     "name": "stdout",
     "output_type": "stream",
     "text": [
      "1856 2083 1443 1758\n"
     ]
    }
   ],
   "source": [
    "neu = 0\n",
    "hap = 0\n",
    "emb = 0\n",
    "unr = 0\n",
    "\n",
    "for i in range(len(y_train)):\n",
    "    if np.argmax(y_train[i]) == 0:\n",
    "        neu += 1\n",
    "    elif np.argmax(y_train[i]) == 1:\n",
    "        hap += 1\n",
    "    elif np.argmax(y_train[i]) == 2:\n",
    "        emb += 1\n",
    "    elif np.argmax(y_train[i]) == 3:\n",
    "        unr += 1\n",
    "\n",
    "print(neu, hap, emb, unr)"
   ]
  },
  {
   "cell_type": "code",
   "execution_count": 3,
   "metadata": {},
   "outputs": [],
   "source": [
    "image = np.load(\"C:/Users/USER/Downloads/choice/cho_image/cho_image/cropped_100.npy\")"
   ]
  },
  {
   "cell_type": "code",
   "execution_count": 5,
   "metadata": {
    "execution": {
     "iopub.execute_input": "2024-10-28T14:18:47.079069Z",
     "iopub.status.busy": "2024-10-28T14:18:47.078783Z",
     "iopub.status.idle": "2024-10-28T14:18:47.635995Z",
     "shell.execute_reply": "2024-10-28T14:18:47.635246Z",
     "shell.execute_reply.started": "2024-10-28T14:18:47.079038Z"
    },
    "trusted": true
   },
   "outputs": [],
   "source": [
    "input_shape=(112, 112, 3)\n",
    "num_classes = 4\n",
    "\n",
    "model = Sequential()\n",
    "model.add(Convolution2D(filters=16, kernel_size=(7, 7), padding='same',\n",
    "                            name='image_array', input_shape=input_shape))\n",
    "model.add(BatchNormalization())\n",
    "model.add(Convolution2D(filters=16, kernel_size=(7, 7), padding='same'))\n",
    "model.add(BatchNormalization())\n",
    "model.add(Activation('relu'))\n",
    "model.add(AveragePooling2D(pool_size=(2, 2), padding='same'))\n",
    "model.add(Dropout(.5))\n",
    "\n",
    "model.add(Convolution2D(filters=32, kernel_size=(5, 5), padding='same'))\n",
    "model.add(BatchNormalization())\n",
    "model.add(Convolution2D(filters=32, kernel_size=(5, 5), padding='same'))\n",
    "model.add(BatchNormalization())\n",
    "model.add(Activation('relu'))\n",
    "model.add(AveragePooling2D(pool_size=(2, 2), padding='same'))\n",
    "model.add(Dropout(.5))\n",
    "\n",
    "model.add(Convolution2D(filters=64, kernel_size=(3, 3), padding='same'))\n",
    "model.add(BatchNormalization())\n",
    "model.add(Convolution2D(filters=64, kernel_size=(3, 3), padding='same'))\n",
    "model.add(BatchNormalization())\n",
    "model.add(Activation('relu'))\n",
    "model.add(AveragePooling2D(pool_size=(2, 2), padding='same'))\n",
    "model.add(Dropout(.5))\n",
    "\n",
    "model.add(Convolution2D(filters=128, kernel_size=(3, 3), padding='same'))\n",
    "model.add(BatchNormalization())\n",
    "model.add(Convolution2D(filters=128, kernel_size=(3, 3), padding='same'))\n",
    "model.add(BatchNormalization())\n",
    "model.add(Activation('relu'))\n",
    "model.add(AveragePooling2D(pool_size=(2, 2), padding='same'))\n",
    "model.add(Dropout(.5))\n",
    "\n",
    "model.add(Convolution2D(filters=256, kernel_size=(3, 3), padding='same'))\n",
    "model.add(BatchNormalization())\n",
    "model.add(Convolution2D(filters=num_classes, kernel_size=(3, 3), padding='same'))\n",
    "model.add(GlobalAveragePooling2D())\n",
    "\n",
    "model.add(Activation('softmax',name='predictions'))"
   ]
  },
  {
   "cell_type": "code",
   "execution_count": 6,
   "metadata": {},
   "outputs": [
    {
     "ename": "FileNotFoundError",
     "evalue": "[Errno 2] No such file or directory: 'C:/Users/USER/Downloads/choice/cho_image/cho_image//mnt/c/Users/user/Downloads/한국인 감정인식을 위한 복합 영상/crop_val/cho_image/cropped_3.npy'",
     "output_type": "error",
     "traceback": [
      "\u001b[1;31m---------------------------------------------------------------------------\u001b[0m",
      "\u001b[1;31mFileNotFoundError\u001b[0m                         Traceback (most recent call last)",
      "Cell \u001b[1;32mIn[6], line 28\u001b[0m\n\u001b[0;32m     26\u001b[0m \u001b[38;5;66;03m# 이미지 로드 (.npy 파일로부터 로드)\u001b[39;00m\n\u001b[0;32m     27\u001b[0m full_image_path \u001b[38;5;241m=\u001b[39m \u001b[38;5;124mf\u001b[39m\u001b[38;5;124m\"\u001b[39m\u001b[38;5;132;01m{\u001b[39;00msave_image_dir\u001b[38;5;132;01m}\u001b[39;00m\u001b[38;5;124m/\u001b[39m\u001b[38;5;132;01m{\u001b[39;00mimage_path\u001b[38;5;132;01m}\u001b[39;00m\u001b[38;5;124m\"\u001b[39m\n\u001b[1;32m---> 28\u001b[0m image \u001b[38;5;241m=\u001b[39m \u001b[43mnp\u001b[49m\u001b[38;5;241;43m.\u001b[39;49m\u001b[43mload\u001b[49m\u001b[43m(\u001b[49m\u001b[43mfull_image_path\u001b[49m\u001b[43m)\u001b[49m\n\u001b[0;32m     30\u001b[0m \u001b[38;5;28;01mif\u001b[39;00m image \u001b[38;5;129;01mis\u001b[39;00m \u001b[38;5;129;01mnot\u001b[39;00m \u001b[38;5;28;01mNone\u001b[39;00m:\n\u001b[0;32m     31\u001b[0m     \u001b[38;5;66;03m# 정규화 (0~1 범위로)\u001b[39;00m\n\u001b[0;32m     32\u001b[0m     image \u001b[38;5;241m=\u001b[39m image\u001b[38;5;241m.\u001b[39mastype(\u001b[38;5;124m'\u001b[39m\u001b[38;5;124mfloat32\u001b[39m\u001b[38;5;124m'\u001b[39m) \u001b[38;5;241m/\u001b[39m \u001b[38;5;241m255.0\u001b[39m\n",
      "File \u001b[1;32mc:\\Users\\USER\\.conda\\envs\\api\\lib\\site-packages\\numpy\\lib\\npyio.py:405\u001b[0m, in \u001b[0;36mload\u001b[1;34m(file, mmap_mode, allow_pickle, fix_imports, encoding, max_header_size)\u001b[0m\n\u001b[0;32m    403\u001b[0m     own_fid \u001b[38;5;241m=\u001b[39m \u001b[38;5;28;01mFalse\u001b[39;00m\n\u001b[0;32m    404\u001b[0m \u001b[38;5;28;01melse\u001b[39;00m:\n\u001b[1;32m--> 405\u001b[0m     fid \u001b[38;5;241m=\u001b[39m stack\u001b[38;5;241m.\u001b[39menter_context(\u001b[38;5;28;43mopen\u001b[39;49m\u001b[43m(\u001b[49m\u001b[43mos_fspath\u001b[49m\u001b[43m(\u001b[49m\u001b[43mfile\u001b[49m\u001b[43m)\u001b[49m\u001b[43m,\u001b[49m\u001b[43m \u001b[49m\u001b[38;5;124;43m\"\u001b[39;49m\u001b[38;5;124;43mrb\u001b[39;49m\u001b[38;5;124;43m\"\u001b[39;49m\u001b[43m)\u001b[49m)\n\u001b[0;32m    406\u001b[0m     own_fid \u001b[38;5;241m=\u001b[39m \u001b[38;5;28;01mTrue\u001b[39;00m\n\u001b[0;32m    408\u001b[0m \u001b[38;5;66;03m# Code to distinguish from NumPy binary files and pickles.\u001b[39;00m\n",
      "\u001b[1;31mFileNotFoundError\u001b[0m: [Errno 2] No such file or directory: 'C:/Users/USER/Downloads/choice/cho_image/cho_image//mnt/c/Users/user/Downloads/한국인 감정인식을 위한 복합 영상/crop_val/cho_image/cropped_3.npy'"
     ]
    }
   ],
   "source": [
    "import json\n",
    "import numpy as np\n",
    "from sklearn.model_selection import train_test_split\n",
    "import tensorflow as tf\n",
    "\n",
    "# 이미지 저장 경로 및 레이블 파일 경로\n",
    "save_image_dir = \"C:/Users/USER/Downloads/choice/cho_image/cho_image\"\n",
    "save_label_file = \"C:/Users/USER/Downloads/choice/cho_image/cho_label/label.json\"\n",
    "\n",
    "# 이미지 크기 (예: 112x112)\n",
    "image_size = (112, 112)\n",
    "\n",
    "# 1. 레이블 데이터 로드\n",
    "with open(save_label_file, 'r') as f:\n",
    "    labels = json.load(f)  # JSON 파일에서 레이블 로드\n",
    "\n",
    "# 2. 이미지 파일과 레이블을 리스트에 저장\n",
    "images = []\n",
    "emotions = []\n",
    "\n",
    "# labels는 리스트로 가정하며, 각 항목이 {\"image\": \"path_to_image\", \"label\": [1, 0, 0]} 형태\n",
    "for entry in labels:\n",
    "    image_path = entry['image']  # 이미지 경로\n",
    "    label = entry['label']       # 라벨 (예: [1, 0, 0, 0])\n",
    "\n",
    "    # 이미지 로드 (.npy 파일로부터 로드)\n",
    "    full_image_path = f\"{save_image_dir}/{image_path}\"\n",
    "    image = np.load(full_image_path)\n",
    "\n",
    "    if image is not None:\n",
    "        # 정규화 (0~1 범위로)\n",
    "        image = image.astype('float32') / 255.0\n",
    "\n",
    "        # 이미지를 리스트에 추가\n",
    "        images.append(image)\n",
    "\n",
    "        # 레이블을 리스트에 추가\n",
    "        emotions.append(label)\n",
    "\n",
    "# 3. NumPy 배열로 변환\n",
    "images = np.array(images)\n",
    "emotions = np.array(emotions)\n",
    "\n",
    "# 4. 학습 및 검증 데이터 분할\n",
    "X_train, X_val, y_train, y_val = train_test_split(images, emotions, test_size=0.2, random_state=42)\n",
    "\n",
    "# 5. 데이터를 tf.data.Dataset으로 변환\n",
    "batch_size = 32\n",
    "train_dataset = tf.data.Dataset.from_tensor_slices((X_train, y_train))\n",
    "train_dataset = train_dataset.shuffle(buffer_size=len(X_train)).batch(batch_size)\n",
    "\n",
    "validation_dataset = tf.data.Dataset.from_tensor_slices((X_val, y_val))\n",
    "validation_dataset = validation_dataset.batch(batch_size)\n",
    "\n",
    "# 모델 컴파일 및 학습 준비\n",
    "# model은 사전에 정의된 모델입니다.\n",
    "model.compile(optimizer='adam', loss='categorical_crossentropy', metrics=['accuracy'])\n",
    "\n",
    "# 학습 콜백 설정\n",
    "reduce_lr = tf.keras.callbacks.ReduceLROnPlateau(monitor='val_loss', factor=0.1, patience=5, min_lr=1e-9)\n",
    "early_stopping = tf.keras.callbacks.EarlyStopping(monitor='val_loss', patience=15, restore_best_weights=True)\n",
    "model_checkpoint = tf.keras.callbacks.ModelCheckpoint(filepath='best_model_custom_112_4.keras', monitor='val_loss', save_best_only=True, save_weights_only=False, mode='min', verbose=1)\n",
    "\n",
    "# 모델 학습\n",
    "history = model.fit(\n",
    "    train_dataset,\n",
    "    epochs=200,\n",
    "    validation_data=validation_dataset,\n",
    "    callbacks=[reduce_lr, early_stopping, model_checkpoint]\n",
    ")\n"
   ]
  },
  {
   "cell_type": "code",
   "execution_count": null,
   "metadata": {
    "execution": {
     "iopub.execute_input": "2024-10-28T14:18:47.637468Z",
     "iopub.status.busy": "2024-10-28T14:18:47.637083Z",
     "iopub.status.idle": "2024-10-28T14:23:35.421964Z",
     "shell.execute_reply": "2024-10-28T14:23:35.420898Z",
     "shell.execute_reply.started": "2024-10-28T14:18:47.637436Z"
    },
    "trusted": true
   },
   "outputs": [
    {
     "name": "stdout",
     "output_type": "stream",
     "text": [
      "Epoch 1/200\n"
     ]
    },
    {
     "name": "stderr",
     "output_type": "stream",
     "text": [
      "WARNING: All log messages before absl::InitializeLog() is called are written to STDERR\n",
      "I0000 00:00:1730125137.287023      68 service.cc:145] XLA service 0x792360003570 initialized for platform CUDA (this does not guarantee that XLA will be used). Devices:\n",
      "I0000 00:00:1730125137.287085      68 service.cc:153]   StreamExecutor device (0): Tesla P100-PCIE-16GB, Compute Capability 6.0\n"
     ]
    },
    {
     "name": "stdout",
     "output_type": "stream",
     "text": [
      "\u001b[1m  6/224\u001b[0m \u001b[37m━━━━━━━━━━━━━━━━━━━━\u001b[0m \u001b[1m5s\u001b[0m 26ms/step - accuracy: 0.1766 - loss: 1.6688   "
     ]
    },
    {
     "name": "stderr",
     "output_type": "stream",
     "text": [
      "I0000 00:00:1730125149.912634      68 device_compiler.h:188] Compiled cluster using XLA!  This line is logged at most once for the lifetime of the process.\n"
     ]
    },
    {
     "name": "stdout",
     "output_type": "stream",
     "text": [
      "\u001b[1m224/224\u001b[0m \u001b[32m━━━━━━━━━━━━━━━━━━━━\u001b[0m\u001b[37m\u001b[0m \u001b[1m0s\u001b[0m 66ms/step - accuracy: 0.3196 - loss: 1.4161"
     ]
    },
    {
     "name": "stderr",
     "output_type": "stream",
     "text": [
      "WARNING: All log messages before absl::InitializeLog() is called are written to STDERR\n",
      "I0000 00:00:1730125164.591698      69 asm_compiler.cc:369] ptxas warning : Registers are spilled to local memory in function 'input_reduce_fusion_4', 36 bytes spill stores, 36 bytes spill loads\n",
      "ptxas warning : Registers are spilled to local memory in function 'input_reduce_fusion_59', 36 bytes spill stores, 36 bytes spill loads\n",
      "\n"
     ]
    },
    {
     "name": "stdout",
     "output_type": "stream",
     "text": [
      "\n",
      "Epoch 1: val_loss improved from inf to 1.42887, saving model to best_model_custom_112_4.keras\n",
      "\u001b[1m224/224\u001b[0m \u001b[32m━━━━━━━━━━━━━━━━━━━━\u001b[0m\u001b[37m\u001b[0m \u001b[1m37s\u001b[0m 79ms/step - accuracy: 0.3200 - loss: 1.4153 - val_accuracy: 0.3712 - val_loss: 1.4289 - learning_rate: 0.0010\n",
      "Epoch 2/200\n",
      "\u001b[1m224/224\u001b[0m \u001b[32m━━━━━━━━━━━━━━━━━━━━\u001b[0m\u001b[37m\u001b[0m \u001b[1m0s\u001b[0m 24ms/step - accuracy: 0.6082 - loss: 0.8899\n",
      "Epoch 2: val_loss did not improve from 1.42887\n",
      "\u001b[1m224/224\u001b[0m \u001b[32m━━━━━━━━━━━━━━━━━━━━\u001b[0m\u001b[37m\u001b[0m \u001b[1m6s\u001b[0m 26ms/step - accuracy: 0.6083 - loss: 0.8897 - val_accuracy: 0.4569 - val_loss: 1.7894 - learning_rate: 0.0010\n",
      "Epoch 3/200\n",
      "\u001b[1m224/224\u001b[0m \u001b[32m━━━━━━━━━━━━━━━━━━━━\u001b[0m\u001b[37m\u001b[0m \u001b[1m0s\u001b[0m 24ms/step - accuracy: 0.6824 - loss: 0.7517\n",
      "Epoch 3: val_loss improved from 1.42887 to 0.88134, saving model to best_model_custom_112_4.keras\n",
      "\u001b[1m224/224\u001b[0m \u001b[32m━━━━━━━━━━━━━━━━━━━━\u001b[0m\u001b[37m\u001b[0m \u001b[1m6s\u001b[0m 27ms/step - accuracy: 0.6824 - loss: 0.7516 - val_accuracy: 0.6293 - val_loss: 0.8813 - learning_rate: 0.0010\n",
      "Epoch 4/200\n",
      "\u001b[1m223/224\u001b[0m \u001b[32m━━━━━━━━━━━━━━━━━━━\u001b[0m\u001b[37m━\u001b[0m \u001b[1m0s\u001b[0m 25ms/step - accuracy: 0.7020 - loss: 0.6832\n",
      "Epoch 4: val_loss improved from 0.88134 to 0.87561, saving model to best_model_custom_112_4.keras\n",
      "\u001b[1m224/224\u001b[0m \u001b[32m━━━━━━━━━━━━━━━━━━━━\u001b[0m\u001b[37m\u001b[0m \u001b[1m6s\u001b[0m 27ms/step - accuracy: 0.7021 - loss: 0.6831 - val_accuracy: 0.6601 - val_loss: 0.8756 - learning_rate: 0.0010\n",
      "Epoch 5/200\n",
      "\u001b[1m224/224\u001b[0m \u001b[32m━━━━━━━━━━━━━━━━━━━━\u001b[0m\u001b[37m\u001b[0m \u001b[1m0s\u001b[0m 24ms/step - accuracy: 0.7227 - loss: 0.6612\n",
      "Epoch 5: val_loss improved from 0.87561 to 0.82806, saving model to best_model_custom_112_4.keras\n",
      "\u001b[1m224/224\u001b[0m \u001b[32m━━━━━━━━━━━━━━━━━━━━\u001b[0m\u001b[37m\u001b[0m \u001b[1m6s\u001b[0m 27ms/step - accuracy: 0.7227 - loss: 0.6612 - val_accuracy: 0.6753 - val_loss: 0.8281 - learning_rate: 0.0010\n",
      "Epoch 6/200\n",
      "\u001b[1m224/224\u001b[0m \u001b[32m━━━━━━━━━━━━━━━━━━━━\u001b[0m\u001b[37m\u001b[0m \u001b[1m0s\u001b[0m 25ms/step - accuracy: 0.7464 - loss: 0.6308\n",
      "Epoch 6: val_loss did not improve from 0.82806\n",
      "\u001b[1m224/224\u001b[0m \u001b[32m━━━━━━━━━━━━━━━━━━━━\u001b[0m\u001b[37m\u001b[0m \u001b[1m6s\u001b[0m 27ms/step - accuracy: 0.7464 - loss: 0.6308 - val_accuracy: 0.6674 - val_loss: 0.8383 - learning_rate: 0.0010\n",
      "Epoch 7/200\n",
      "\u001b[1m224/224\u001b[0m \u001b[32m━━━━━━━━━━━━━━━━━━━━\u001b[0m\u001b[37m\u001b[0m \u001b[1m0s\u001b[0m 24ms/step - accuracy: 0.7460 - loss: 0.6163\n",
      "Epoch 7: val_loss improved from 0.82806 to 0.71064, saving model to best_model_custom_112_4.keras\n",
      "\u001b[1m224/224\u001b[0m \u001b[32m━━━━━━━━━━━━━━━━━━━━\u001b[0m\u001b[37m\u001b[0m \u001b[1m6s\u001b[0m 27ms/step - accuracy: 0.7461 - loss: 0.6163 - val_accuracy: 0.7128 - val_loss: 0.7106 - learning_rate: 0.0010\n",
      "Epoch 8/200\n",
      "\u001b[1m224/224\u001b[0m \u001b[32m━━━━━━━━━━━━━━━━━━━━\u001b[0m\u001b[37m\u001b[0m \u001b[1m0s\u001b[0m 24ms/step - accuracy: 0.7524 - loss: 0.6190\n",
      "Epoch 8: val_loss did not improve from 0.71064\n",
      "\u001b[1m224/224\u001b[0m \u001b[32m━━━━━━━━━━━━━━━━━━━━\u001b[0m\u001b[37m\u001b[0m \u001b[1m6s\u001b[0m 26ms/step - accuracy: 0.7525 - loss: 0.6189 - val_accuracy: 0.6456 - val_loss: 0.9038 - learning_rate: 0.0010\n",
      "Epoch 9/200\n",
      "\u001b[1m223/224\u001b[0m \u001b[32m━━━━━━━━━━━━━━━━━━━\u001b[0m\u001b[37m━\u001b[0m \u001b[1m0s\u001b[0m 24ms/step - accuracy: 0.7514 - loss: 0.6050\n",
      "Epoch 9: val_loss did not improve from 0.71064\n",
      "\u001b[1m224/224\u001b[0m \u001b[32m━━━━━━━━━━━━━━━━━━━━\u001b[0m\u001b[37m\u001b[0m \u001b[1m6s\u001b[0m 26ms/step - accuracy: 0.7515 - loss: 0.6049 - val_accuracy: 0.6853 - val_loss: 0.7676 - learning_rate: 0.0010\n",
      "Epoch 10/200\n",
      "\u001b[1m222/224\u001b[0m \u001b[32m━━━━━━━━━━━━━━━━━━━\u001b[0m\u001b[37m━\u001b[0m \u001b[1m0s\u001b[0m 24ms/step - accuracy: 0.7653 - loss: 0.5697\n",
      "Epoch 10: val_loss improved from 0.71064 to 0.58995, saving model to best_model_custom_112_4.keras\n",
      "\u001b[1m224/224\u001b[0m \u001b[32m━━━━━━━━━━━━━━━━━━━━\u001b[0m\u001b[37m\u001b[0m \u001b[1m6s\u001b[0m 27ms/step - accuracy: 0.7653 - loss: 0.5697 - val_accuracy: 0.7576 - val_loss: 0.5899 - learning_rate: 0.0010\n",
      "Epoch 11/200\n",
      "\u001b[1m222/224\u001b[0m \u001b[32m━━━━━━━━━━━━━━━━━━━\u001b[0m\u001b[37m━\u001b[0m \u001b[1m0s\u001b[0m 25ms/step - accuracy: 0.7792 - loss: 0.5676\n",
      "Epoch 11: val_loss did not improve from 0.58995\n",
      "\u001b[1m224/224\u001b[0m \u001b[32m━━━━━━━━━━━━━━━━━━━━\u001b[0m\u001b[37m\u001b[0m \u001b[1m6s\u001b[0m 27ms/step - accuracy: 0.7793 - loss: 0.5675 - val_accuracy: 0.7671 - val_loss: 0.6000 - learning_rate: 0.0010\n",
      "Epoch 12/200\n",
      "\u001b[1m224/224\u001b[0m \u001b[32m━━━━━━━━━━━━━━━━━━━━\u001b[0m\u001b[37m\u001b[0m \u001b[1m0s\u001b[0m 25ms/step - accuracy: 0.7753 - loss: 0.5596\n",
      "Epoch 12: val_loss did not improve from 0.58995\n",
      "\u001b[1m224/224\u001b[0m \u001b[32m━━━━━━━━━━━━━━━━━━━━\u001b[0m\u001b[37m\u001b[0m \u001b[1m6s\u001b[0m 27ms/step - accuracy: 0.7754 - loss: 0.5596 - val_accuracy: 0.5963 - val_loss: 0.9406 - learning_rate: 0.0010\n",
      "Epoch 13/200\n",
      "\u001b[1m224/224\u001b[0m \u001b[32m━━━━━━━━━━━━━━━━━━━━\u001b[0m\u001b[37m\u001b[0m \u001b[1m0s\u001b[0m 25ms/step - accuracy: 0.7822 - loss: 0.5573\n",
      "Epoch 13: val_loss did not improve from 0.58995\n",
      "\u001b[1m224/224\u001b[0m \u001b[32m━━━━━━━━━━━━━━━━━━━━\u001b[0m\u001b[37m\u001b[0m \u001b[1m6s\u001b[0m 27ms/step - accuracy: 0.7822 - loss: 0.5572 - val_accuracy: 0.6915 - val_loss: 0.7395 - learning_rate: 0.0010\n",
      "Epoch 14/200\n",
      "\u001b[1m223/224\u001b[0m \u001b[32m━━━━━━━━━━━━━━━━━━━\u001b[0m\u001b[37m━\u001b[0m \u001b[1m0s\u001b[0m 25ms/step - accuracy: 0.7925 - loss: 0.5378\n",
      "Epoch 14: val_loss did not improve from 0.58995\n",
      "\u001b[1m224/224\u001b[0m \u001b[32m━━━━━━━━━━━━━━━━━━━━\u001b[0m\u001b[37m\u001b[0m \u001b[1m6s\u001b[0m 27ms/step - accuracy: 0.7925 - loss: 0.5376 - val_accuracy: 0.7632 - val_loss: 0.5931 - learning_rate: 0.0010\n",
      "Epoch 15/200\n",
      "\u001b[1m222/224\u001b[0m \u001b[32m━━━━━━━━━━━━━━━━━━━\u001b[0m\u001b[37m━\u001b[0m \u001b[1m0s\u001b[0m 24ms/step - accuracy: 0.7932 - loss: 0.5194\n",
      "Epoch 15: val_loss did not improve from 0.58995\n",
      "\u001b[1m224/224\u001b[0m \u001b[32m━━━━━━━━━━━━━━━━━━━━\u001b[0m\u001b[37m\u001b[0m \u001b[1m6s\u001b[0m 27ms/step - accuracy: 0.7932 - loss: 0.5194 - val_accuracy: 0.7665 - val_loss: 0.5946 - learning_rate: 0.0010\n",
      "Epoch 16/200\n",
      "\u001b[1m222/224\u001b[0m \u001b[32m━━━━━━━━━━━━━━━━━━━\u001b[0m\u001b[37m━\u001b[0m \u001b[1m0s\u001b[0m 24ms/step - accuracy: 0.8073 - loss: 0.5089\n",
      "Epoch 16: val_loss improved from 0.58995 to 0.49796, saving model to best_model_custom_112_4.keras\n",
      "\u001b[1m224/224\u001b[0m \u001b[32m━━━━━━━━━━━━━━━━━━━━\u001b[0m\u001b[37m\u001b[0m \u001b[1m6s\u001b[0m 27ms/step - accuracy: 0.8075 - loss: 0.5085 - val_accuracy: 0.8152 - val_loss: 0.4980 - learning_rate: 1.0000e-04\n",
      "Epoch 17/200\n",
      "\u001b[1m224/224\u001b[0m \u001b[32m━━━━━━━━━━━━━━━━━━━━\u001b[0m\u001b[37m\u001b[0m \u001b[1m0s\u001b[0m 25ms/step - accuracy: 0.8103 - loss: 0.4766\n",
      "Epoch 17: val_loss improved from 0.49796 to 0.47540, saving model to best_model_custom_112_4.keras\n",
      "\u001b[1m224/224\u001b[0m \u001b[32m━━━━━━━━━━━━━━━━━━━━\u001b[0m\u001b[37m\u001b[0m \u001b[1m10s\u001b[0m 28ms/step - accuracy: 0.8103 - loss: 0.4765 - val_accuracy: 0.8264 - val_loss: 0.4754 - learning_rate: 1.0000e-04\n",
      "Epoch 18/200\n",
      "\u001b[1m222/224\u001b[0m \u001b[32m━━━━━━━━━━━━━━━━━━━\u001b[0m\u001b[37m━\u001b[0m \u001b[1m0s\u001b[0m 25ms/step - accuracy: 0.8236 - loss: 0.4546\n",
      "Epoch 18: val_loss improved from 0.47540 to 0.47271, saving model to best_model_custom_112_4.keras\n",
      "\u001b[1m224/224\u001b[0m \u001b[32m━━━━━━━━━━━━━━━━━━━━\u001b[0m\u001b[37m\u001b[0m \u001b[1m6s\u001b[0m 28ms/step - accuracy: 0.8236 - loss: 0.4547 - val_accuracy: 0.8163 - val_loss: 0.4727 - learning_rate: 1.0000e-04\n",
      "Epoch 19/200\n",
      "\u001b[1m223/224\u001b[0m \u001b[32m━━━━━━━━━━━━━━━━━━━\u001b[0m\u001b[37m━\u001b[0m \u001b[1m0s\u001b[0m 25ms/step - accuracy: 0.8331 - loss: 0.4280\n",
      "Epoch 19: val_loss did not improve from 0.47271\n",
      "\u001b[1m224/224\u001b[0m \u001b[32m━━━━━━━━━━━━━━━━━━━━\u001b[0m\u001b[37m\u001b[0m \u001b[1m6s\u001b[0m 27ms/step - accuracy: 0.8331 - loss: 0.4282 - val_accuracy: 0.8208 - val_loss: 0.4736 - learning_rate: 1.0000e-04\n",
      "Epoch 20/200\n",
      "\u001b[1m223/224\u001b[0m \u001b[32m━━━━━━━━━━━━━━━━━━━\u001b[0m\u001b[37m━\u001b[0m \u001b[1m0s\u001b[0m 25ms/step - accuracy: 0.8282 - loss: 0.4375\n",
      "Epoch 20: val_loss did not improve from 0.47271\n",
      "\u001b[1m224/224\u001b[0m \u001b[32m━━━━━━━━━━━━━━━━━━━━\u001b[0m\u001b[37m\u001b[0m \u001b[1m6s\u001b[0m 28ms/step - accuracy: 0.8282 - loss: 0.4376 - val_accuracy: 0.8208 - val_loss: 0.4795 - learning_rate: 1.0000e-04\n",
      "Epoch 21/200\n",
      "\u001b[1m223/224\u001b[0m \u001b[32m━━━━━━━━━━━━━━━━━━━\u001b[0m\u001b[37m━\u001b[0m \u001b[1m0s\u001b[0m 26ms/step - accuracy: 0.8367 - loss: 0.4295\n",
      "Epoch 21: val_loss did not improve from 0.47271\n",
      "\u001b[1m224/224\u001b[0m \u001b[32m━━━━━━━━━━━━━━━━━━━━\u001b[0m\u001b[37m\u001b[0m \u001b[1m6s\u001b[0m 28ms/step - accuracy: 0.8366 - loss: 0.4297 - val_accuracy: 0.8225 - val_loss: 0.4845 - learning_rate: 1.0000e-04\n",
      "Epoch 22/200\n",
      "\u001b[1m224/224\u001b[0m \u001b[32m━━━━━━━━━━━━━━━━━━━━\u001b[0m\u001b[37m\u001b[0m \u001b[1m0s\u001b[0m 25ms/step - accuracy: 0.8228 - loss: 0.4592\n",
      "Epoch 22: val_loss did not improve from 0.47271\n",
      "\u001b[1m224/224\u001b[0m \u001b[32m━━━━━━━━━━━━━━━━━━━━\u001b[0m\u001b[37m\u001b[0m \u001b[1m6s\u001b[0m 27ms/step - accuracy: 0.8228 - loss: 0.4591 - val_accuracy: 0.8219 - val_loss: 0.4734 - learning_rate: 1.0000e-04\n",
      "Epoch 23/200\n",
      "\u001b[1m223/224\u001b[0m \u001b[32m━━━━━━━━━━━━━━━━━━━\u001b[0m\u001b[37m━\u001b[0m \u001b[1m0s\u001b[0m 25ms/step - accuracy: 0.8265 - loss: 0.4417\n",
      "Epoch 23: val_loss improved from 0.47271 to 0.47035, saving model to best_model_custom_112_4.keras\n",
      "\u001b[1m224/224\u001b[0m \u001b[32m━━━━━━━━━━━━━━━━━━━━\u001b[0m\u001b[37m\u001b[0m \u001b[1m6s\u001b[0m 28ms/step - accuracy: 0.8265 - loss: 0.4417 - val_accuracy: 0.8264 - val_loss: 0.4704 - learning_rate: 1.0000e-04\n",
      "Epoch 24/200\n",
      "\u001b[1m222/224\u001b[0m \u001b[32m━━━━━━━━━━━━━━━━━━━\u001b[0m\u001b[37m━\u001b[0m \u001b[1m0s\u001b[0m 25ms/step - accuracy: 0.8359 - loss: 0.4312\n",
      "Epoch 24: val_loss did not improve from 0.47035\n",
      "\u001b[1m224/224\u001b[0m \u001b[32m━━━━━━━━━━━━━━━━━━━━\u001b[0m\u001b[37m\u001b[0m \u001b[1m6s\u001b[0m 27ms/step - accuracy: 0.8358 - loss: 0.4313 - val_accuracy: 0.8231 - val_loss: 0.4759 - learning_rate: 1.0000e-04\n",
      "Epoch 25/200\n",
      "\u001b[1m223/224\u001b[0m \u001b[32m━━━━━━━━━━━━━━━━━━━\u001b[0m\u001b[37m━\u001b[0m \u001b[1m0s\u001b[0m 25ms/step - accuracy: 0.8261 - loss: 0.4406\n",
      "Epoch 25: val_loss did not improve from 0.47035\n",
      "\u001b[1m224/224\u001b[0m \u001b[32m━━━━━━━━━━━━━━━━━━━━\u001b[0m\u001b[37m\u001b[0m \u001b[1m6s\u001b[0m 27ms/step - accuracy: 0.8262 - loss: 0.4406 - val_accuracy: 0.8214 - val_loss: 0.4758 - learning_rate: 1.0000e-04\n",
      "Epoch 26/200\n",
      "\u001b[1m223/224\u001b[0m \u001b[32m━━━━━━━━━━━━━━━━━━━\u001b[0m\u001b[37m━\u001b[0m \u001b[1m0s\u001b[0m 25ms/step - accuracy: 0.8356 - loss: 0.4383\n",
      "Epoch 26: val_loss improved from 0.47035 to 0.45844, saving model to best_model_custom_112_4.keras\n",
      "\u001b[1m224/224\u001b[0m \u001b[32m━━━━━━━━━━━━━━━━━━━━\u001b[0m\u001b[37m\u001b[0m \u001b[1m6s\u001b[0m 28ms/step - accuracy: 0.8356 - loss: 0.4383 - val_accuracy: 0.8343 - val_loss: 0.4584 - learning_rate: 1.0000e-04\n",
      "Epoch 27/200\n",
      "\u001b[1m222/224\u001b[0m \u001b[32m━━━━━━━━━━━━━━━━━━━\u001b[0m\u001b[37m━\u001b[0m \u001b[1m0s\u001b[0m 25ms/step - accuracy: 0.8336 - loss: 0.4421\n",
      "Epoch 27: val_loss did not improve from 0.45844\n",
      "\u001b[1m224/224\u001b[0m \u001b[32m━━━━━━━━━━━━━━━━━━━━\u001b[0m\u001b[37m\u001b[0m \u001b[1m6s\u001b[0m 27ms/step - accuracy: 0.8335 - loss: 0.4420 - val_accuracy: 0.8259 - val_loss: 0.4748 - learning_rate: 1.0000e-04\n",
      "Epoch 28/200\n",
      "\u001b[1m222/224\u001b[0m \u001b[32m━━━━━━━━━━━━━━━━━━━\u001b[0m\u001b[37m━\u001b[0m \u001b[1m0s\u001b[0m 25ms/step - accuracy: 0.8311 - loss: 0.4271\n",
      "Epoch 28: val_loss did not improve from 0.45844\n",
      "\u001b[1m224/224\u001b[0m \u001b[32m━━━━━━━━━━━━━━━━━━━━\u001b[0m\u001b[37m\u001b[0m \u001b[1m6s\u001b[0m 27ms/step - accuracy: 0.8312 - loss: 0.4271 - val_accuracy: 0.8326 - val_loss: 0.4687 - learning_rate: 1.0000e-04\n",
      "Epoch 29/200\n",
      "\u001b[1m223/224\u001b[0m \u001b[32m━━━━━━━━━━━━━━━━━━━\u001b[0m\u001b[37m━\u001b[0m \u001b[1m0s\u001b[0m 25ms/step - accuracy: 0.8360 - loss: 0.4265\n",
      "Epoch 29: val_loss did not improve from 0.45844\n",
      "\u001b[1m224/224\u001b[0m \u001b[32m━━━━━━━━━━━━━━━━━━━━\u001b[0m\u001b[37m\u001b[0m \u001b[1m6s\u001b[0m 27ms/step - accuracy: 0.8360 - loss: 0.4265 - val_accuracy: 0.8259 - val_loss: 0.4705 - learning_rate: 1.0000e-04\n",
      "Epoch 30/200\n",
      "\u001b[1m223/224\u001b[0m \u001b[32m━━━━━━━━━━━━━━━━━━━\u001b[0m\u001b[37m━\u001b[0m \u001b[1m0s\u001b[0m 25ms/step - accuracy: 0.8332 - loss: 0.4329\n",
      "Epoch 30: val_loss did not improve from 0.45844\n",
      "\u001b[1m224/224\u001b[0m \u001b[32m━━━━━━━━━━━━━━━━━━━━\u001b[0m\u001b[37m\u001b[0m \u001b[1m6s\u001b[0m 27ms/step - accuracy: 0.8332 - loss: 0.4328 - val_accuracy: 0.8236 - val_loss: 0.4671 - learning_rate: 1.0000e-04\n",
      "Epoch 31/200\n",
      "\u001b[1m222/224\u001b[0m \u001b[32m━━━━━━━━━━━━━━━━━━━\u001b[0m\u001b[37m━\u001b[0m \u001b[1m0s\u001b[0m 25ms/step - accuracy: 0.8388 - loss: 0.4201\n",
      "Epoch 31: val_loss did not improve from 0.45844\n",
      "\u001b[1m224/224\u001b[0m \u001b[32m━━━━━━━━━━━━━━━━━━━━\u001b[0m\u001b[37m\u001b[0m \u001b[1m6s\u001b[0m 27ms/step - accuracy: 0.8387 - loss: 0.4202 - val_accuracy: 0.8292 - val_loss: 0.4681 - learning_rate: 1.0000e-04\n",
      "Epoch 32/200\n",
      "\u001b[1m223/224\u001b[0m \u001b[32m━━━━━━━━━━━━━━━━━━━\u001b[0m\u001b[37m━\u001b[0m \u001b[1m0s\u001b[0m 25ms/step - accuracy: 0.8403 - loss: 0.4169\n",
      "Epoch 32: val_loss did not improve from 0.45844\n",
      "\u001b[1m224/224\u001b[0m \u001b[32m━━━━━━━━━━━━━━━━━━━━\u001b[0m\u001b[37m\u001b[0m \u001b[1m6s\u001b[0m 27ms/step - accuracy: 0.8403 - loss: 0.4169 - val_accuracy: 0.8309 - val_loss: 0.4629 - learning_rate: 1.0000e-05\n",
      "Epoch 33/200\n",
      "\u001b[1m222/224\u001b[0m \u001b[32m━━━━━━━━━━━━━━━━━━━\u001b[0m\u001b[37m━\u001b[0m \u001b[1m0s\u001b[0m 25ms/step - accuracy: 0.8425 - loss: 0.4139\n",
      "Epoch 33: val_loss did not improve from 0.45844\n",
      "\u001b[1m224/224\u001b[0m \u001b[32m━━━━━━━━━━━━━━━━━━━━\u001b[0m\u001b[37m\u001b[0m \u001b[1m6s\u001b[0m 27ms/step - accuracy: 0.8425 - loss: 0.4139 - val_accuracy: 0.8315 - val_loss: 0.4590 - learning_rate: 1.0000e-05\n",
      "Epoch 34/200\n",
      "\u001b[1m223/224\u001b[0m \u001b[32m━━━━━━━━━━━━━━━━━━━\u001b[0m\u001b[37m━\u001b[0m \u001b[1m0s\u001b[0m 25ms/step - accuracy: 0.8465 - loss: 0.4175\n",
      "Epoch 34: val_loss did not improve from 0.45844\n",
      "\u001b[1m224/224\u001b[0m \u001b[32m━━━━━━━━━━━━━━━━━━━━\u001b[0m\u001b[37m\u001b[0m \u001b[1m6s\u001b[0m 27ms/step - accuracy: 0.8464 - loss: 0.4175 - val_accuracy: 0.8315 - val_loss: 0.4612 - learning_rate: 1.0000e-05\n",
      "Epoch 35/200\n",
      "\u001b[1m224/224\u001b[0m \u001b[32m━━━━━━━━━━━━━━━━━━━━\u001b[0m\u001b[37m\u001b[0m \u001b[1m0s\u001b[0m 25ms/step - accuracy: 0.8370 - loss: 0.4234\n",
      "Epoch 35: val_loss did not improve from 0.45844\n",
      "\u001b[1m224/224\u001b[0m \u001b[32m━━━━━━━━━━━━━━━━━━━━\u001b[0m\u001b[37m\u001b[0m \u001b[1m6s\u001b[0m 27ms/step - accuracy: 0.8370 - loss: 0.4234 - val_accuracy: 0.8343 - val_loss: 0.4609 - learning_rate: 1.0000e-05\n",
      "Epoch 36/200\n",
      "\u001b[1m222/224\u001b[0m \u001b[32m━━━━━━━━━━━━━━━━━━━\u001b[0m\u001b[37m━\u001b[0m \u001b[1m0s\u001b[0m 25ms/step - accuracy: 0.8372 - loss: 0.4214\n",
      "Epoch 36: val_loss did not improve from 0.45844\n",
      "\u001b[1m224/224\u001b[0m \u001b[32m━━━━━━━━━━━━━━━━━━━━\u001b[0m\u001b[37m\u001b[0m \u001b[1m6s\u001b[0m 27ms/step - accuracy: 0.8372 - loss: 0.4213 - val_accuracy: 0.8303 - val_loss: 0.4643 - learning_rate: 1.0000e-05\n",
      "Epoch 37/200\n",
      "\u001b[1m223/224\u001b[0m \u001b[32m━━━━━━━━━━━━━━━━━━━\u001b[0m\u001b[37m━\u001b[0m \u001b[1m0s\u001b[0m 25ms/step - accuracy: 0.8449 - loss: 0.4101\n",
      "Epoch 37: val_loss did not improve from 0.45844\n",
      "\u001b[1m224/224\u001b[0m \u001b[32m━━━━━━━━━━━━━━━━━━━━\u001b[0m\u001b[37m\u001b[0m \u001b[1m6s\u001b[0m 27ms/step - accuracy: 0.8449 - loss: 0.4101 - val_accuracy: 0.8331 - val_loss: 0.4615 - learning_rate: 1.0000e-06\n",
      "Epoch 38/200\n",
      "\u001b[1m224/224\u001b[0m \u001b[32m━━━━━━━━━━━━━━━━━━━━\u001b[0m\u001b[37m\u001b[0m \u001b[1m0s\u001b[0m 25ms/step - accuracy: 0.8381 - loss: 0.4153\n",
      "Epoch 38: val_loss did not improve from 0.45844\n",
      "\u001b[1m224/224\u001b[0m \u001b[32m━━━━━━━━━━━━━━━━━━━━\u001b[0m\u001b[37m\u001b[0m \u001b[1m6s\u001b[0m 27ms/step - accuracy: 0.8380 - loss: 0.4153 - val_accuracy: 0.8331 - val_loss: 0.4618 - learning_rate: 1.0000e-06\n",
      "Epoch 39/200\n",
      "\u001b[1m222/224\u001b[0m \u001b[32m━━━━━━━━━━━━━━━━━━━\u001b[0m\u001b[37m━\u001b[0m \u001b[1m0s\u001b[0m 25ms/step - accuracy: 0.8291 - loss: 0.4269\n",
      "Epoch 39: val_loss did not improve from 0.45844\n",
      "\u001b[1m224/224\u001b[0m \u001b[32m━━━━━━━━━━━━━━━━━━━━\u001b[0m\u001b[37m\u001b[0m \u001b[1m6s\u001b[0m 27ms/step - accuracy: 0.8292 - loss: 0.4267 - val_accuracy: 0.8331 - val_loss: 0.4619 - learning_rate: 1.0000e-06\n",
      "Epoch 40/200\n",
      "\u001b[1m223/224\u001b[0m \u001b[32m━━━━━━━━━━━━━━━━━━━\u001b[0m\u001b[37m━\u001b[0m \u001b[1m0s\u001b[0m 25ms/step - accuracy: 0.8324 - loss: 0.4136\n",
      "Epoch 40: val_loss did not improve from 0.45844\n",
      "\u001b[1m224/224\u001b[0m \u001b[32m━━━━━━━━━━━━━━━━━━━━\u001b[0m\u001b[37m\u001b[0m \u001b[1m6s\u001b[0m 27ms/step - accuracy: 0.8325 - loss: 0.4136 - val_accuracy: 0.8331 - val_loss: 0.4611 - learning_rate: 1.0000e-06\n",
      "Epoch 41/200\n",
      "\u001b[1m224/224\u001b[0m \u001b[32m━━━━━━━━━━━━━━━━━━━━\u001b[0m\u001b[37m\u001b[0m \u001b[1m0s\u001b[0m 25ms/step - accuracy: 0.8408 - loss: 0.4182\n",
      "Epoch 41: val_loss did not improve from 0.45844\n",
      "\u001b[1m224/224\u001b[0m \u001b[32m━━━━━━━━━━━━━━━━━━━━\u001b[0m\u001b[37m\u001b[0m \u001b[1m6s\u001b[0m 27ms/step - accuracy: 0.8408 - loss: 0.4181 - val_accuracy: 0.8331 - val_loss: 0.4611 - learning_rate: 1.0000e-06\n"
     ]
    }
   ],
   "source": [
    "import tensorflow as tf\n",
    "\n",
    "# 학습 파라미터\n",
    "batch_size = 32\n",
    "num_epochs = 200\n",
    "\n",
    "# 4. 학습 및 검증 데이터 분할\n",
    "X_train, X_val, y_train, y_val = train_test_split(images, emotions, test_size=0.2, random_state=42)\n",
    "\n",
    "# 데이터를 tf.data.Dataset으로 변환\n",
    "train_dataset = tf.data.Dataset.from_tensor_slices((X_train, y_train))\n",
    "train_dataset = train_dataset.shuffle(buffer_size=len(X_train)).batch(batch_size)\n",
    "\n",
    "validation_dataset = tf.data.Dataset.from_tensor_slices((X_val, y_val))\n",
    "validation_dataset = validation_dataset.batch(batch_size)\n",
    "\n",
    "# 모델 컴파일\n",
    "model.compile(optimizer='adam', loss='categorical_crossentropy', metrics=['accuracy'])\n",
    "\n",
    "# ReduceLROnPlateau 콜백 설정\n",
    "reduce_lr = tf.keras.callbacks.ReduceLROnPlateau(\n",
    "    monitor='val_loss',  # 검증 손실을 기준으로 학습률을 조정\n",
    "    factor=0.1,          # 학습률을 10%로 감소\n",
    "    patience=5,\n",
    "    min_lr=1e-9          # 학습률이 이 값 이하로는 떨어지지 않음\n",
    ")\n",
    "\n",
    "# EarlyStopping 콜백 설정\n",
    "early_stopping = tf.keras.callbacks.EarlyStopping(\n",
    "    monitor='val_loss',  # 검증 손실을 기준으로 모니터링\n",
    "    patience=15,         # 5 에포크 동안 개선되지 않으면 멈춤\n",
    "    restore_best_weights=True  # 가장 좋은 가중치를 복원\n",
    ")\n",
    "\n",
    "# ModelCheckpoint 콜백 설정 (Best 모델 저장)\n",
    "model_checkpoint = tf.keras.callbacks.ModelCheckpoint(\n",
    "    filepath='best_model_custom_112_4.keras',  # 모델을 저장할 파일 경로\n",
    "    monitor='val_loss',        # 검증 손실이 가장 적을 때 모델 저장\n",
    "    save_best_only=True,       # 가장 좋은 모델만 저장\n",
    "    save_weights_only=False,   # 전체 모델 저장 (가중치와 구조 모두 저장)\n",
    "    mode='min',                # 모니터 기준이 '최소'일 때 저장 (val_loss가 낮을수록 좋음)\n",
    "    verbose=1                  # 모델 저장 시 출력 메시지 표시\n",
    ")\n",
    "\n",
    "# 모델 학습\n",
    "history = model.fit(\n",
    "    train_dataset,\n",
    "    epochs=num_epochs,\n",
    "    validation_data=validation_dataset,\n",
    "    callbacks=[reduce_lr, early_stopping, model_checkpoint]  # 콜백 리스트에 ModelCheckpoint 추가\n",
    ")"
   ]
  },
  {
   "cell_type": "code",
   "execution_count": 12,
   "metadata": {
    "execution": {
     "iopub.execute_input": "2024-10-28T14:24:37.222655Z",
     "iopub.status.busy": "2024-10-28T14:24:37.221771Z",
     "iopub.status.idle": "2024-10-28T14:24:37.350048Z",
     "shell.execute_reply": "2024-10-28T14:24:37.349059Z",
     "shell.execute_reply.started": "2024-10-28T14:24:37.222615Z"
    },
    "trusted": true
   },
   "outputs": [],
   "source": [
    "model.save('last_model_custom_112_4.keras')"
   ]
  },
  {
   "cell_type": "code",
   "execution_count": 13,
   "metadata": {
    "execution": {
     "iopub.execute_input": "2024-10-28T14:24:44.012879Z",
     "iopub.status.busy": "2024-10-28T14:24:44.011901Z",
     "iopub.status.idle": "2024-10-28T14:24:44.541040Z",
     "shell.execute_reply": "2024-10-28T14:24:44.540121Z",
     "shell.execute_reply.started": "2024-10-28T14:24:44.012827Z"
    },
    "trusted": true
   },
   "outputs": [
    {
     "data": {
      "image/png": "[encoded data removed]",
      "text/plain": [
       "<Figure size 1200x500 with 2 Axes>"
      ]
     },
     "metadata": {},
     "output_type": "display_data"
    }
   ],
   "source": [
    "# history 객체에서 손실과 정확도 값 가져오기\n",
    "loss = history.history['loss']\n",
    "val_loss = history.history['val_loss']\n",
    "accuracy = history.history['accuracy']\n",
    "val_accuracy = history.history['val_accuracy']\n",
    "\n",
    "# 에포크 값\n",
    "epochs = range(1, len(loss) + 1)\n",
    "\n",
    "# 손실 그래프 그리기\n",
    "plt.figure(figsize=(12, 5))\n",
    "\n",
    "plt.subplot(1, 2, 1)\n",
    "plt.plot(epochs, loss, 'bo-', label='Training Loss')  # 파란색 'bo-' 라인은 학습 손실\n",
    "plt.plot(epochs, val_loss, 'ro-', label='Validation Loss')  # 빨간색 'ro-' 라인은 검증 손실\n",
    "plt.title('Training and Validation Loss')\n",
    "plt.xlabel('Epochs')\n",
    "plt.ylabel('Loss')\n",
    "plt.legend()\n",
    "\n",
    "# 정확도 그래프 그리기\n",
    "plt.subplot(1, 2, 2)\n",
    "plt.plot(epochs, accuracy, 'bo-', label='Training Accuracy')  # 파란색 'bo-' 라인은 학습 정확도\n",
    "plt.plot(epochs, val_accuracy, 'ro-', label='Validation Accuracy')  # 빨간색 'ro-' 라인은 검증 정확도\n",
    "plt.title('Training and Validation Accuracy')\n",
    "plt.xlabel('Epochs')\n",
    "plt.ylabel('Accuracy')\n",
    "plt.legend()\n",
    "\n",
    "# 그래프 출력\n",
    "plt.show()"
   ]
  },
  {
   "cell_type": "code",
   "execution_count": null,
   "metadata": {
    "execution": {
     "iopub.execute_input": "2024-10-28T14:24:54.882315Z",
     "iopub.status.busy": "2024-10-28T14:24:54.881917Z",
     "iopub.status.idle": "2024-10-28T14:24:59.505081Z",
     "shell.execute_reply": "2024-10-28T14:24:59.504109Z",
     "shell.execute_reply.started": "2024-10-28T14:24:54.882277Z"
    },
    "trusted": true
   },
   "outputs": [
    {
     "name": "stdout",
     "output_type": "stream",
     "text": [
      "\u001b[1m56/56\u001b[0m \u001b[32m━━━━━━━━━━━━━━━━━━━━\u001b[0m\u001b[37m\u001b[0m \u001b[1m2s\u001b[0m 19ms/step\n",
      "라벨별 개수:\n",
      "라벨 2: 332개\n",
      "라벨 1: 513개\n",
      "라벨 3: 455개\n",
      "라벨 0: 486개\n"
     ]
    }
   ],
   "source": [
    "import numpy as np\n",
    "from collections import Counter\n",
    "\n",
    "# 이미지 전처리 및 모델 예측 함수\n",
    "def predict_labels_from_images(model, image_list):\n",
    "    images = []\n",
    "\n",
    "    # 이미지 리스트 처리 (이미 numpy 형태이므로 전처리만 진행)\n",
    "    for image in image_list:\n",
    "        if image.shape != (112, 112, 3):\n",
    "            print(f\"잘못된 이미지 크기: {image.shape}, 스킵합니다.\")\n",
    "            continue\n",
    "        \n",
    "        # 이미 정규화가 안 되어 있으면 추가 가능 (예: image = image / 255.0)\n",
    "        images.append(image)\n",
    "\n",
    "    if len(images) == 0:\n",
    "        print(\"예측할 이미지가 없습니다.\")\n",
    "        return None\n",
    "\n",
    "    # numpy 배열로 변환\n",
    "    images_np = np.array(images)\n",
    "    \n",
    "    # 모델 예측 (결과는 확률로 나옴)\n",
    "    predictions = model.predict(images_np)\n",
    "    \n",
    "    # 예측된 클래스 라벨을 반환 (argmax를 사용하여 가장 높은 확률을 가진 클래스 선택)\n",
    "    predicted_labels = np.argmax(predictions, axis=1)\n",
    "    \n",
    "    return predicted_labels, predictions, images_np\n",
    "\n",
    "# 모델을 사용하여 이미지 리스트에 대해 예측\n",
    "model = tf.keras.models.load_model('./ai_models/last_model_custom_112_4.keras')\n",
    "predicted_labels, predictions, images= predict_labels_from_images(model, X_val)\n",
    "\n",
    "# 예측된 라벨의 개수를 세기\n",
    "if predicted_labels is not None:\n",
    "    label_counts = Counter(predicted_labels)\n",
    "    \n",
    "    # 라벨별 개수 출력\n",
    "    print(\"라벨별 개수:\")\n",
    "    for label, count in label_counts.items():\n",
    "        print(f\"라벨 {label}: {count}개\")\n"
   ]
  },
  {
   "cell_type": "code",
   "execution_count": 20,
   "metadata": {
    "execution": {
     "iopub.execute_input": "2024-10-28T14:26:05.877464Z",
     "iopub.status.busy": "2024-10-28T14:26:05.877073Z",
     "iopub.status.idle": "2024-10-28T14:26:06.108771Z",
     "shell.execute_reply": "2024-10-28T14:26:06.107846Z",
     "shell.execute_reply.started": "2024-10-28T14:26:05.877427Z"
    },
    "trusted": true
   },
   "outputs": [
    {
     "name": "stdout",
     "output_type": "stream",
     "text": [
      "[4.7996952e-03 5.7815120e-04 2.5043568e-01 7.4418652e-01]\n"
     ]
    },
    {
     "data": {
      "text/plain": [
       "Text(0.5, 1.0, 'True Label: unrest\\nPredicted Class: unrest')"
      ]
     },
     "execution_count": 20,
     "metadata": {},
     "output_type": "execute_result"
    },
    {
     "data": {
      "image/png": "[encoded data removed]",
      "text/plain": [
       "<Figure size 640x480 with 1 Axes>"
      ]
     },
     "metadata": {},
     "output_type": "display_data"
    }
   ],
   "source": [
    "idx = 777\n",
    "print(predictions[idx])\n",
    "plt.imshow(X_val[idx])\n",
    "label = {0: \"neutral\", 1: \"happy\", 2: \"embarrased\", 3: \"unrest\"}\n",
    "plt.title(f\"True Label: {label[np.argmax(y_val[idx])]}\\nPredicted Class: {label[predicted_labels[idx]]}\")"
   ]
  },
  {
   "cell_type": "code",
   "execution_count": null,
   "metadata": {},
   "outputs": [],
   "source": []
  }
 ],
 "metadata": {
  "kaggle": {
   "accelerator": "gpu",
   "dataSources": [
    {
     "datasetId": 5964049,
     "sourceId": 9743049,
     "sourceType": "datasetVersion"
    },
    {
     "datasetId": 5964251,
     "sourceId": 9743315,
     "sourceType": "datasetVersion"
    },
    {
     "datasetId": 5964307,
     "sourceId": 9743386,
     "sourceType": "datasetVersion"
    },
    {
     "datasetId": 5964424,
     "sourceId": 9743533,
     "sourceType": "datasetVersion"
    },
    {
     "datasetId": 5964469,
     "sourceId": 9743586,
     "sourceType": "datasetVersion"
    },
    {
     "datasetId": 5965600,
     "sourceId": 9745052,
     "sourceType": "datasetVersion"
    }
   ],
   "dockerImageVersionId": 30787,
   "isGpuEnabled": true,
   "isInternetEnabled": true,
   "language": "python",
   "sourceType": "notebook"
  },
  "kernelspec": {
   "display_name": "api",
   "language": "python",
   "name": "python3"
  },
  "language_info": {
   "codemirror_mode": {
    "name": "ipython",
    "version": 3
   },
   "file_extension": ".py",
   "mimetype": "text/x-python",
   "name": "python",
   "nbconvert_exporter": "python",
   "pygments_lexer": "ipython3",
   "version": "3.8.20"
  }
 },
 "nbformat": 4,
 "nbformat_minor": 4
}
